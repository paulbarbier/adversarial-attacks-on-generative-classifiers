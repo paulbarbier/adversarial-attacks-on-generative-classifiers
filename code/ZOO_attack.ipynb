{
 "cells": [
  {
   "cell_type": "code",
   "execution_count": 1,
   "metadata": {},
   "outputs": [
    {
     "name": "stderr",
     "output_type": "stream",
     "text": [
      "c:\\Users\\Manal\\Desktop\\3A\\PGM\\adversarial-attacks-on-generative-classifiers\\.venv\\lib\\site-packages\\orbax\\checkpoint\\type_handlers.py:1346: UserWarning: Couldn't find sharding info under RestoreArgs. Populating sharding info from sharding file. Please note restoration time will be slightly increased due to reading from file instead of directly from RestoreArgs.\n",
      "  warnings.warn(\n"
     ]
    }
   ],
   "source": [
    "import orbax.checkpoint as ocp\n",
    "import os\n",
    "from ml_collections import ConfigDict\n",
    "from pathlib import Path\n",
    "from utils import prepare_test_dataset\n",
    "from dataset_utils import get_dataset\n",
    "from jax import random\n",
    "from models.utils import sample_gaussian\n",
    "\n",
    "import models.ClassifierGFZ as ClassifierGFZ\n",
    "import models.ClassifierDFZ as ClassifierDFZ\n",
    "\n",
    "checkpoint_path = \"dfz-2-epochs-first-try-1\"\n",
    "path = os.path.join(Path.cwd(), Path(f\"checkpoints\"), Path(checkpoint_path))\n",
    "checkpoint = ocp.PyTreeCheckpointer().restore(path, item=None)\n",
    "\n",
    "config = ConfigDict(checkpoint[\"config\"])\n",
    "dataset_config = ConfigDict(checkpoint[\"dataset_config\"])\n",
    "\n",
    "if config.model_name == \"GFZ\":\n",
    "    classifier = ClassifierGFZ\n",
    "elif config.model_name == \"DFZ\":\n",
    "    classifier = ClassifierDFZ\n",
    "else:\n",
    "    raise NotImplementedError(config.model_name)\n",
    "\n",
    "_, test_ds = get_dataset(config.dataset)\n",
    "test_images, test_labels = prepare_test_dataset(\n",
    "    test_ds, dataset_config\n",
    "    )\n",
    "\n",
    "trained_params = checkpoint[\"params\"]\n",
    "\n",
    "log_likelyhood_fn = classifier.log_likelyhood_A\n",
    "\n",
    "test_key = random.PRNGKey(config.seed)\n",
    "\n",
    "test_key, model, _ = classifier.create_and_init(\n",
    "    test_key, config, dataset_config\n",
    ")"
   ]
  },
  {
   "cell_type": "code",
   "execution_count": 2,
   "metadata": {},
   "outputs": [],
   "source": [
    "from flax import linen as nn\n",
    "import jax\n",
    "from jax import jacrev\n",
    "import numpy as np\n",
    "from functools import partial\n",
    "from jax.scipy.special import logsumexp\n",
    "import jax.numpy as jnp\n",
    "import matplotlib.pyplot as plt\n",
    "from tqdm import tqdm\n",
    "import optax\n",
    "from scipy.optimize import minimize\n",
    "\n",
    "def init_data(test_key, n_samples=10):\n",
    "    idx = np.random.choice(range(len(test_images)), n_samples, replace=False)\n",
    "\n",
    "    all_xs = test_images[idx]\n",
    "    true_ys = test_labels[idx]\n",
    "    true_labels = np.argmax(true_ys, axis=1)\n",
    "\n",
    "    K = model.K\n",
    "    batch_size = n_samples\n",
    "    test_key, epsilons = sample_gaussian(test_key, (batch_size, model.n_classes * K, model.d_latent))\n",
    "    epsilons = epsilons[:n_samples*model.n_classes]\n",
    "    all_ys = nn.one_hot(jnp.repeat(jnp.arange(model.n_classes), K), model.n_classes, dtype=jnp.float32)\n",
    "    \n",
    "    return all_xs, true_labels, epsilons, all_ys, K, test_key\n",
    "\n",
    "def get_model_output(x, epsilon, y, K):\n",
    "    z, logit_q_z_xy, logit_p_x_z, logit_p_y_xz = jax.vmap(\n",
    "            partial(model.apply, {'params': trained_params}, train=False),\n",
    "            in_axes=(None, 0, 0)\n",
    "        )(x, y, epsilon)\n",
    "\n",
    "    ll = log_likelyhood_fn(\n",
    "            z, logit_q_z_xy, logit_p_x_z, logit_p_y_xz\n",
    "        ).reshape(model.n_classes, K)\n",
    "    ll = logsumexp(ll, axis=1) - np.log(K)\n",
    "    return ll\n",
    "\n",
    "def get_model_jacobian(x, epsilon, y, K):\n",
    "    return jacrev(get_model_output, argnums=0)(x, epsilon, y, K)\n",
    "\n",
    "def map_label_to_name(y):\n",
    "    labels = [\"T-shirt/top\", \"Trouser\", \"Pullover\", \"Dress\", \"Coat\",\n",
    "              \"Sandal\", \"Shirt\", \"Sneaker\", \"Bag\", \"Ankle boot\"]\n",
    "    return labels[y]"
   ]
  },
  {
   "cell_type": "code",
   "execution_count": 49,
   "metadata": {},
   "outputs": [],
   "source": [
    "# Zeroth order optimization attack\n",
    "import numpy as np\n",
    "import jax\n",
    "import jax.numpy as jnp\n",
    "import optax\n",
    "\n",
    "class ZOO_Attack():\n",
    "    def __init__(self, model, max_iter=10, learning_rate=0.1, c=1, p=2):\n",
    "        self.model = model\n",
    "        self.n_classes = model.n_classes\n",
    "        self.max_iter = max_iter\n",
    "        self.learning_rate = learning_rate\n",
    "        self.c = c\n",
    "        assert p > 1 \n",
    "        self.p = p\n",
    "        if self.p == np.inf:\n",
    "            self.q = 1\n",
    "        else:\n",
    "            self.q = self.p / (self.p - 1)\n",
    "\n",
    "    def qnorm(self, x):\n",
    "        return jnp.linalg.norm(x.flatten(), self.q)\n",
    "\n",
    "    def get_label(self, x):\n",
    "        val = get_model_output(x, self.epsilon, self.y, self.K)\n",
    "        return jnp.argmax(val)\n",
    "\n",
    "    def get_likelihoods(self, x):\n",
    "        val = get_model_output(x, self.epsilon, self.y, self.K)\n",
    "        return val\n",
    "\n",
    "    def get_gradients(self, x, epsilon=1e-5):\n",
    "        # Estimate gradients using finite differences\n",
    "        perturbed_x_plus = x + epsilon\n",
    "        perturbed_x_minus = x - epsilon\n",
    "\n",
    "        output_plus = self.get_likelihoods(perturbed_x_plus)\n",
    "        output_minus = self.get_likelihoods(perturbed_x_minus)\n",
    "\n",
    "        gradients = (output_plus - output_minus) / (2 * epsilon)\n",
    "\n",
    "        return gradients\n",
    "\n",
    "    def loss(self, val, label):\n",
    "        label_one_hot_encoding = jax.nn.one_hot(jnp.array([label]), self.n_classes)\n",
    "        return optax.softmax_cross_entropy(val, label_one_hot_encoding)\n",
    "    \n",
    "    def f(self, x, target_label, k = 0):\n",
    "        val = self.get_likelihoods(x)\n",
    "        max_logit = jnp.max(val[jnp.arange(self.n_classes) != target_label])\n",
    "        logit_diff = jnp.maximum(max_logit - val[target_label], - k)\n",
    "        return logit_diff\n",
    "    \n",
    "    def get_objective(self, w, x, target_label, k = 0):\n",
    "        norm = self.qnorm(w)\n",
    "        penalty = self.c * self.f(x + w, target_label, k = k)\n",
    "        return norm + penalty\n",
    "    \n",
    "    def get_obj_grad(self, w, x, target_label):\n",
    "        # Compute gradient of the objective function\n",
    "        corrupted_x = x + w\n",
    "        norm_grad = (2) * (corrupted_x - x)\n",
    "\n",
    "        val = self.get_likelihoods(corrupted_x)\n",
    "        grad_model = self.get_gradients(corrupted_x)\n",
    "        max_label = jnp.argmax(val[jnp.arange(self.n_classes) != target_label])\n",
    "        max_logit = val[max_label]\n",
    "        logit_diff = max_logit - val[target_label]\n",
    "        if logit_diff <= 0:\n",
    "            penalty_grad = 0\n",
    "        else:\n",
    "            penalty_grad = grad_model[max_label] - grad_model[target_label]\n",
    "        \n",
    "        return norm_grad + self.c * penalty_grad\n",
    "    \n",
    "    def project_to_bounds(self, x):\n",
    "        bounds_min = jnp.zeros_like(x)\n",
    "        bounds_max = jnp.ones_like(x)\n",
    "        return jnp.clip(x, bounds_min, bounds_max)\n",
    "\n",
    "    def get_perturbation(self, x, epsilon, all_ys, K):\n",
    "        self.y = all_ys\n",
    "        self.epsilon = epsilon\n",
    "        self.K = K\n",
    "        true_label = self.get_label(x)\n",
    "        max_perturbation_norm = -1\n",
    "        best_label = true_label\n",
    "        best_corrupted_x = x.copy()\n",
    "        for label in range(self.n_classes): # to do : optimize this loop\n",
    "            if label != true_label:\n",
    "                corrupted_x = x.copy()\n",
    "                w = jnp.zeros_like(corrupted_x)\n",
    "                # use gradient descent to find minimum of the problem\n",
    "                for i in range(self.max_iter):\n",
    "                    grad = self.get_obj_grad(w, x, label)\n",
    "                    w = w - self.learning_rate * grad\n",
    "                    corrupted_x = x + w\n",
    "                    if self.get_label(corrupted_x) == label:\n",
    "                        break\n",
    "                    \n",
    "                # check if the attack was successful\n",
    "                new_label = self.get_label(corrupted_x)\n",
    "                if new_label != label:\n",
    "                    print(\"Warning: did not find a perturbation\")\n",
    "                    perturbation_norm = -1\n",
    "                else:\n",
    "                    perturbation_norm = np.linalg.norm(corrupted_x - x)/np.linalg.norm(x)\n",
    "                    print(perturbation_norm)\n",
    "\n",
    "                # Choose minimal perturbation\n",
    "                if max_perturbation_norm == -1 and perturbation_norm != -1:\n",
    "                    max_perturbation_norm = perturbation_norm\n",
    "                    best_label = new_label\n",
    "                    best_corrupted_x = corrupted_x\n",
    "                else : \n",
    "                    if perturbation_norm != -1 and perturbation_norm < max_perturbation_norm:\n",
    "                        max_perturbation_norm = perturbation_norm\n",
    "                        best_label = new_label\n",
    "                        best_corrupted_x = corrupted_x\n",
    "\n",
    "        return best_corrupted_x, best_label, max_perturbation_norm"
   ]
  },
  {
   "cell_type": "code",
   "execution_count": 21,
   "metadata": {},
   "outputs": [],
   "source": [
    "def get_average_performance(corruption_model, all_xs, epsilons, all_ys, K):\n",
    "    perturbation_norms = []\n",
    "    n_samples = len(all_xs)\n",
    "    for i in tqdm(range(n_samples)):\n",
    "        x = all_xs[i]\n",
    "        epsilon = epsilons[i]\n",
    "        _, _, perturbation_norm = corruption_model.get_perturbation(x, epsilon, all_ys, K)\n",
    "        perturbation_norms.append(perturbation_norm)\n",
    "    return np.array(perturbation_norms)"
   ]
  },
  {
   "cell_type": "code",
   "execution_count": 52,
   "metadata": {},
   "outputs": [
    {
     "name": "stderr",
     "output_type": "stream",
     "text": [
      "  0%|          | 0/10 [00:00<?, ?it/s]"
     ]
    },
    {
     "name": "stdout",
     "output_type": "stream",
     "text": [
      "Warning: did not find a perturbation\n",
      "Warning: did not find a perturbation\n",
      "Warning: did not find a perturbation\n",
      "Warning: did not find a perturbation\n",
      "Warning: did not find a perturbation\n",
      "Warning: did not find a perturbation\n",
      "Warning: did not find a perturbation\n",
      "3.6668606\n"
     ]
    },
    {
     "name": "stderr",
     "output_type": "stream",
     "text": [
      " 10%|█         | 1/10 [01:23<12:27, 83.10s/it]"
     ]
    },
    {
     "name": "stdout",
     "output_type": "stream",
     "text": [
      "Warning: did not find a perturbation\n",
      "Warning: did not find a perturbation\n",
      "Warning: did not find a perturbation\n",
      "Warning: did not find a perturbation\n",
      "Warning: did not find a perturbation\n",
      "Warning: did not find a perturbation\n",
      "Warning: did not find a perturbation\n",
      "Warning: did not find a perturbation\n",
      "13.479637\n"
     ]
    },
    {
     "name": "stderr",
     "output_type": "stream",
     "text": [
      " 20%|██        | 2/10 [02:43<10:50, 81.29s/it]"
     ]
    },
    {
     "name": "stdout",
     "output_type": "stream",
     "text": [
      "Warning: did not find a perturbation\n",
      "Warning: did not find a perturbation\n",
      "Warning: did not find a perturbation\n",
      "Warning: did not find a perturbation\n",
      "Warning: did not find a perturbation\n",
      "Warning: did not find a perturbation\n",
      "Warning: did not find a perturbation\n",
      "1.929487\n",
      "Warning: did not find a perturbation\n"
     ]
    },
    {
     "name": "stderr",
     "output_type": "stream",
     "text": [
      " 30%|███       | 3/10 [04:02<09:23, 80.51s/it]"
     ]
    },
    {
     "name": "stdout",
     "output_type": "stream",
     "text": [
      "Warning: did not find a perturbation\n",
      "Warning: did not find a perturbation\n",
      "Warning: did not find a perturbation\n",
      "Warning: did not find a perturbation\n",
      "Warning: did not find a perturbation\n",
      "Warning: did not find a perturbation\n",
      "Warning: did not find a perturbation\n",
      "Warning: did not find a perturbation\n",
      "Warning: did not find a perturbation\n"
     ]
    },
    {
     "name": "stderr",
     "output_type": "stream",
     "text": [
      " 40%|████      | 4/10 [05:34<08:29, 84.84s/it]"
     ]
    },
    {
     "name": "stdout",
     "output_type": "stream",
     "text": [
      "Warning: did not find a perturbation\n",
      "Warning: did not find a perturbation\n",
      "Warning: did not find a perturbation\n",
      "Warning: did not find a perturbation\n",
      "Warning: did not find a perturbation\n",
      "Warning: did not find a perturbation\n",
      "0.40485218\n",
      "Warning: did not find a perturbation\n",
      "1.0094314\n"
     ]
    },
    {
     "name": "stderr",
     "output_type": "stream",
     "text": [
      " 50%|█████     | 5/10 [06:59<07:04, 84.86s/it]"
     ]
    },
    {
     "name": "stdout",
     "output_type": "stream",
     "text": [
      "Warning: did not find a perturbation\n",
      "Warning: did not find a perturbation\n",
      "Warning: did not find a perturbation\n",
      "Warning: did not find a perturbation\n",
      "Warning: did not find a perturbation\n",
      "Warning: did not find a perturbation\n",
      "1.1651036\n",
      "Warning: did not find a perturbation\n",
      "Warning: did not find a perturbation\n"
     ]
    },
    {
     "name": "stderr",
     "output_type": "stream",
     "text": [
      " 60%|██████    | 6/10 [08:13<05:24, 81.23s/it]"
     ]
    },
    {
     "name": "stdout",
     "output_type": "stream",
     "text": [
      "Warning: did not find a perturbation\n",
      "Warning: did not find a perturbation\n",
      "Warning: did not find a perturbation\n",
      "Warning: did not find a perturbation\n",
      "Warning: did not find a perturbation\n",
      "Warning: did not find a perturbation\n",
      "Warning: did not find a perturbation\n",
      "Warning: did not find a perturbation\n",
      "Warning: did not find a perturbation\n"
     ]
    },
    {
     "name": "stderr",
     "output_type": "stream",
     "text": [
      " 70%|███████   | 7/10 [09:24<03:53, 77.80s/it]"
     ]
    },
    {
     "name": "stdout",
     "output_type": "stream",
     "text": [
      "1.0363916\n",
      "Warning: did not find a perturbation\n",
      "Warning: did not find a perturbation\n",
      "Warning: did not find a perturbation\n",
      "Warning: did not find a perturbation\n",
      "Warning: did not find a perturbation\n",
      "Warning: did not find a perturbation\n",
      "Warning: did not find a perturbation\n",
      "15.980929\n"
     ]
    },
    {
     "name": "stderr",
     "output_type": "stream",
     "text": [
      " 80%|████████  | 8/10 [10:33<02:30, 75.18s/it]"
     ]
    },
    {
     "name": "stdout",
     "output_type": "stream",
     "text": [
      "Warning: did not find a perturbation\n",
      "Warning: did not find a perturbation\n",
      "Warning: did not find a perturbation\n",
      "Warning: did not find a perturbation\n",
      "Warning: did not find a perturbation\n",
      "2.014937\n",
      "Warning: did not find a perturbation\n",
      "Warning: did not find a perturbation\n",
      "2.1555138\n"
     ]
    },
    {
     "name": "stderr",
     "output_type": "stream",
     "text": [
      " 90%|█████████ | 9/10 [11:36<01:11, 71.42s/it]"
     ]
    },
    {
     "name": "stdout",
     "output_type": "stream",
     "text": [
      "210.23326\n",
      "Warning: did not find a perturbation\n",
      "2.4464536\n",
      "Warning: did not find a perturbation\n",
      "Warning: did not find a perturbation\n",
      "13.529338\n",
      "Warning: did not find a perturbation\n",
      "Warning: did not find a perturbation\n",
      "6.8294683\n"
     ]
    },
    {
     "name": "stderr",
     "output_type": "stream",
     "text": [
      "100%|██████████| 10/10 [12:39<00:00, 75.96s/it]"
     ]
    },
    {
     "name": "stdout",
     "output_type": "stream",
     "text": [
      "Warning: did not find a perturbation\n",
      "Average perturbation norm of ZOO Attack model (on 9 successful samples): 4.6805\n"
     ]
    },
    {
     "name": "stderr",
     "output_type": "stream",
     "text": [
      "\n"
     ]
    }
   ],
   "source": [
    "n_samples = 10\n",
    "all_xs, true_labels, epsilons, all_ys, K, test_key = init_data(test_key, n_samples=n_samples)\n",
    "\n",
    "corruption_model = ZOO_Attack(model, max_iter=10, learning_rate=0.1, c=1, p=2)\n",
    "\n",
    "perturbation_norms_ZOO = get_average_performance(corruption_model, all_xs, epsilons, all_ys, K)\n",
    "perturbation_norms_successful_ZOO = perturbation_norms_ZOO[perturbation_norms_ZOO != -1]\n",
    "n_successful_ZOO = len(perturbation_norms_successful_ZOO)\n",
    "n_successful_ZOO\n",
    "print(f'Average perturbation norm of ZOO Attack model (on {n_successful_ZOO} successful samples): {np.mean(perturbation_norms_successful_ZOO):>.4f}')"
   ]
  }
 ],
 "metadata": {
  "kernelspec": {
   "display_name": ".venv",
   "language": "python",
   "name": "python3"
  },
  "language_info": {
   "codemirror_mode": {
    "name": "ipython",
    "version": 3
   },
   "file_extension": ".py",
   "mimetype": "text/x-python",
   "name": "python",
   "nbconvert_exporter": "python",
   "pygments_lexer": "ipython3",
   "version": "3.9.8"
  }
 },
 "nbformat": 4,
 "nbformat_minor": 2
}
