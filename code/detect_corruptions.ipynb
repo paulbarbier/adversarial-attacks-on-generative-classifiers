{
 "cells": [
  {
   "cell_type": "code",
   "execution_count": 1,
   "metadata": {},
   "outputs": [
    {
     "name": "stderr",
     "output_type": "stream",
     "text": [
      "/Users/alexandrelutt/Desktop/Travail/ENPC/3A/MVA/Probabilistic Graphical Models/adversarial-attacks-on-generative-classifiers/.venv/lib/python3.9/site-packages/orbax/checkpoint/type_handlers.py:1346: UserWarning: Couldn't find sharding info under RestoreArgs. Populating sharding info from sharding file. Please note restoration time will be slightly increased due to reading from file instead of directly from RestoreArgs.\n",
      "  warnings.warn(\n"
     ]
    }
   ],
   "source": [
    "import orbax.checkpoint as ocp\n",
    "from ml_collections import ConfigDict\n",
    "from pathlib import Path\n",
    "from utils import prepare_test_dataset\n",
    "from dataset_utils import get_dataset\n",
    "from jax import random\n",
    "from models.utils import sample_gaussian\n",
    "\n",
    "import models.ClassifierGFZ as ClassifierGFZ\n",
    "import models.ClassifierDFZ as ClassifierDFZ\n",
    "\n",
    "checkpoint_path = \"gfz-2-epochs-first-try-1\"\n",
    "path = Path.cwd() / Path(f\"checkpoints\") / Path(checkpoint_path)\n",
    "checkpoint = ocp.PyTreeCheckpointer().restore(path, item=None)\n",
    "\n",
    "config = ConfigDict(checkpoint[\"config\"])\n",
    "dataset_config = ConfigDict(checkpoint[\"dataset_config\"])\n",
    "\n",
    "if config.model_name == \"GFZ\":\n",
    "    classifier = ClassifierGFZ\n",
    "elif config.model_name == \"DFZ\":\n",
    "    classifier = ClassifierDFZ\n",
    "else:\n",
    "    raise NotImplementedError(config.model_name)\n",
    "\n",
    "train_ds, test_ds = get_dataset(config.dataset)\n",
    "test_images, test_labels = prepare_test_dataset(\n",
    "    test_ds, dataset_config\n",
    "    )\n",
    "train_images, train_labels = prepare_test_dataset(\n",
    "    train_ds, dataset_config\n",
    "    )\n",
    "\n",
    "trained_params = checkpoint[\"params\"]\n",
    "\n",
    "log_likelyhood_fn = classifier.log_likelyhood_A\n",
    "\n",
    "test_key = random.PRNGKey(config.seed)\n",
    "\n",
    "test_key, model, _ = classifier.create_and_init(\n",
    "    test_key, config, dataset_config\n",
    ")"
   ]
  },
  {
   "cell_type": "code",
   "execution_count": 2,
   "metadata": {},
   "outputs": [],
   "source": [
    "from flax import linen as nn\n",
    "import jax\n",
    "from jax import jacrev\n",
    "import numpy as np\n",
    "from functools import partial\n",
    "from jax.scipy.special import logsumexp\n",
    "import jax.numpy as jnp\n",
    "import matplotlib.pyplot as plt\n",
    "from tqdm import tqdm\n",
    "from scipy.special import softmax\n",
    "\n",
    "def init_data(test_key, type='test', n_samples=10):\n",
    "    if type == 'test':\n",
    "        idx = np.random.choice(range(len(test_images)), n_samples, replace=False)\n",
    "\n",
    "        all_xs = test_images[idx]\n",
    "        true_ys = test_labels[idx]\n",
    "    elif type == 'train':\n",
    "        idx = np.random.choice(range(len(train_images)), n_samples, replace=False)\n",
    "\n",
    "        all_xs = train_images[idx]\n",
    "        true_ys = train_labels[idx]\n",
    "        \n",
    "    true_labels = np.argmax(true_ys, axis=1)\n",
    "\n",
    "    K = model.K\n",
    "    batch_size = n_samples\n",
    "    test_key, epsilons = sample_gaussian(test_key, (batch_size, model.n_classes * K, model.d_latent))\n",
    "    epsilons = epsilons[:n_samples*model.n_classes]\n",
    "    all_ys = nn.one_hot(jnp.repeat(jnp.arange(model.n_classes), K), model.n_classes, dtype=jnp.float32)\n",
    "    \n",
    "    return all_xs, true_labels, epsilons, all_ys, K, test_key\n",
    "\n",
    "def get_model_output(x, epsilon, y, K):\n",
    "    z, logit_q_z_xy, logit_p_x_z, logit_p_y_xz = jax.vmap(\n",
    "            partial(model.apply, {'params': trained_params}, train=False),\n",
    "            in_axes=(None, 0, 0)\n",
    "        )(x, y, epsilon)\n",
    "\n",
    "    ll = log_likelyhood_fn(\n",
    "            z, logit_q_z_xy, logit_p_x_z, logit_p_y_xz\n",
    "        ).reshape(model.n_classes, K)\n",
    "    ll = logsumexp(ll, axis=1) - np.log(K)\n",
    "    return ll\n",
    "\n",
    "def get_model_jacobian(x, epsilon, y, K):\n",
    "    return jacrev(get_model_output, argnums=0)(x, epsilon, y, K)\n",
    "\n",
    "def map_label_to_name(y):\n",
    "    labels = [\"T-shirt/top\", \"Trouser\", \"Pullover\", \"Dress\", \"Coat\",\n",
    "              \"Sandal\", \"Shirt\", \"Sneaker\", \"Bag\", \"Ankle boot\"]\n",
    "    return labels[y]"
   ]
  },
  {
   "cell_type": "code",
   "execution_count": 3,
   "metadata": {},
   "outputs": [],
   "source": [
    "class DeepFool():\n",
    "    def __init__(self, model, max_iter=10, learning_rate=1, p=2):\n",
    "        self.model = model\n",
    "        self.n_classes = model.n_classes\n",
    "        self.max_iter = max_iter\n",
    "        self.learning_rate = learning_rate\n",
    "        assert p > 1 \n",
    "        self.p = p\n",
    "        if self.p == np.inf:\n",
    "            self.q = 1\n",
    "        else:\n",
    "            self.q = self.p/(self.p-1)\n",
    "\n",
    "    def qnorm(self, x):\n",
    "        return np.linalg.norm(x.flatten(), self.q)\n",
    "\n",
    "    def get_label(self, x, epsilon):\n",
    "        val = get_model_output(x, epsilon, self.y, self.K)\n",
    "        return np.argmax(val)\n",
    "\n",
    "    def get_likelihoods_and_gradients(self, x, epsilon):\n",
    "        J = get_model_jacobian(x, epsilon, self.y, self.K)\n",
    "        val = get_model_output(x, epsilon, self.y, self.K)\n",
    "        return val, J\n",
    "\n",
    "    def get_perturbation(self, x, epsilon, all_ys, K):\n",
    "        corrupted_x = x.copy()\n",
    "        self.y = all_ys\n",
    "        self.K = K\n",
    "        new_label = self.get_label(corrupted_x, epsilon)\n",
    "        k = self.get_label(x, epsilon)\n",
    "        for _ in range(self.max_iter):\n",
    "            best_pert = np.inf\n",
    "            likelihoods, gradients = self.get_likelihoods_and_gradients(corrupted_x, epsilon)\n",
    "            for j in range(self.n_classes):\n",
    "                if j != k:\n",
    "                    w_j = gradients[j] - gradients[k]\n",
    "                    f_j = likelihoods[j] - likelihoods[k]\n",
    "                    pert = np.abs(f_j) / self.qnorm(w_j)\n",
    "                    if pert < best_pert:\n",
    "                        w = w_j\n",
    "                        f = f_j\n",
    "            r_i = (np.abs(f) / self.qnorm(w)**self.q) * (np.sign(w) * np.abs(w)**(self.q-1))\n",
    "            corrupted_x = corrupted_x + self.learning_rate*r_i\n",
    "            new_label = self.get_label(corrupted_x, epsilon)\n",
    "            if new_label != k:\n",
    "                break\n",
    "        if new_label == k:\n",
    "            print(\"Warning: did not find a perturbation\")\n",
    "            perturbation_norm = -1\n",
    "        else:\n",
    "            perturbation_norm = np.linalg.norm(corrupted_x - x)/np.linalg.norm(x)\n",
    "        return corrupted_x, new_label, perturbation_norm"
   ]
  },
  {
   "cell_type": "code",
   "execution_count": 4,
   "metadata": {},
   "outputs": [],
   "source": [
    "class FastGradientSign():\n",
    "    def __init__(self, model, eta=0.3):\n",
    "        self.model = model\n",
    "        self.eta = eta\n",
    "\n",
    "    def get_likelihoods_and_gradients(self, x, epsilon):\n",
    "        J = get_model_jacobian(x, epsilon, self.y, self.K)\n",
    "        val = get_model_output(x, epsilon, self.y, self.K)\n",
    "        return val, J\n",
    "    \n",
    "    def get_label(self, x, epsilon):\n",
    "        val = get_model_output(x, epsilon, self.y, self.K)\n",
    "        return np.argmax(val)\n",
    "\n",
    "    def get_perturbation(self, x, epsilon, all_ys, K):\n",
    "        corrupted_x = x.copy()  \n",
    "        self.y = all_ys\n",
    "        self.K = K\n",
    "        original_label = self.get_label(x, epsilon)\n",
    "        _, gradients = self.get_likelihoods_and_gradients(corrupted_x, epsilon)\n",
    "        perturbations = np.array([self.eta * np.sign(g) for g in gradients])\n",
    "        perturbated_labels = np.array([self.get_label(x+p, epsilon) for p in perturbations])\n",
    "        different_labels_ids = np.where(perturbated_labels != original_label)\n",
    "        if len(different_labels_ids[0]) == 0:\n",
    "            print(\"Warning: did not find a perturbation\")\n",
    "            perturbation_norm = -1\n",
    "            new_label = original_label\n",
    "            smallest_perturbation = np.argmin(np.linalg.norm(perturbations, axis=0))\n",
    "            corrupted_x = x + smallest_perturbation\n",
    "        else:\n",
    "            different_labels_norms = np.array([np.linalg.norm(p) for p in perturbations])[different_labels_ids]\n",
    "            corrupted_x = x + perturbations[np.argmin(different_labels_norms)]\n",
    "            new_label = self.get_label(corrupted_x, epsilon)\n",
    "            perturbation_norm = np.linalg.norm(corrupted_x - x)/np.linalg.norm(x)\n",
    "        return corrupted_x, new_label, perturbation_norm"
   ]
  },
  {
   "cell_type": "code",
   "execution_count": 5,
   "metadata": {},
   "outputs": [
    {
     "name": "stderr",
     "output_type": "stream",
     "text": [
      "  0%|          | 0/100 [00:00<?, ?it/s]"
     ]
    },
    {
     "name": "stdout",
     "output_type": "stream",
     "text": [
      "Warning: did not find a perturbation\n"
     ]
    },
    {
     "name": "stderr",
     "output_type": "stream",
     "text": [
      "  5%|▌         | 5/100 [00:22<06:31,  4.12s/it]"
     ]
    },
    {
     "name": "stdout",
     "output_type": "stream",
     "text": [
      "Warning: did not find a perturbation\n"
     ]
    },
    {
     "name": "stderr",
     "output_type": "stream",
     "text": [
      " 16%|█▌        | 16/100 [01:06<05:30,  3.93s/it]"
     ]
    },
    {
     "name": "stdout",
     "output_type": "stream",
     "text": [
      "Warning: did not find a perturbation\n"
     ]
    },
    {
     "name": "stderr",
     "output_type": "stream",
     "text": [
      " 37%|███▋      | 37/100 [02:23<03:53,  3.70s/it]"
     ]
    },
    {
     "name": "stdout",
     "output_type": "stream",
     "text": [
      "Warning: did not find a perturbation\n"
     ]
    },
    {
     "name": "stderr",
     "output_type": "stream",
     "text": [
      " 82%|████████▏ | 82/100 [05:05<01:07,  3.74s/it]"
     ]
    },
    {
     "name": "stdout",
     "output_type": "stream",
     "text": [
      "Warning: did not find a perturbation\n"
     ]
    },
    {
     "name": "stderr",
     "output_type": "stream",
     "text": [
      "100%|██████████| 100/100 [06:11<00:00,  3.71s/it]\n"
     ]
    }
   ],
   "source": [
    "from scipy.special import softmax\n",
    "\n",
    "n_samples = 100\n",
    "all_xs_test, true_labels_test, epsilons_test, all_ys_test, K_test, test_key = init_data(test_key, type='test', n_samples=n_samples)\n",
    "\n",
    "all_xs_train, true_labels_train, epsilons_train, all_ys_train, K_train, test_key = init_data(test_key, type='train', n_samples=n_samples)\n",
    "\n",
    "corruption_model = FastGradientSign(model)\n",
    "all_generated_p_bayes = np.zeros((n_samples, 10))\n",
    "\n",
    "for i in tqdm(range(n_samples)):\n",
    "    x = all_xs_test[i]\n",
    "    epsilon = epsilons_test[i]\n",
    "    corrupted_x, _, _ = corruption_model.get_perturbation(x, epsilon, all_ys_test, K_test)\n",
    "    ll = get_model_output(corrupted_x, epsilon, all_ys_test, K_test)\n",
    "    p_bayes = softmax(ll)\n",
    "    all_generated_p_bayes[i] = p_bayes"
   ]
  },
  {
   "cell_type": "code",
   "execution_count": 6,
   "metadata": {},
   "outputs": [
    {
     "name": "stderr",
     "output_type": "stream",
     "text": [
      "100%|██████████| 100/100 [00:23<00:00,  4.35it/s]\n"
     ]
    }
   ],
   "source": [
    "all_true_p_bayes = np.zeros((n_samples, 10))\n",
    "well_classified = []\n",
    "\n",
    "for i in tqdm(range(n_samples)):\n",
    "    x = all_xs_train[i]\n",
    "    epsilon = epsilons_train[i]\n",
    "    ll = get_model_output(x, epsilon, all_ys_train, K_train)\n",
    "    p_bayes = softmax(ll)\n",
    "    all_true_p_bayes[i] = p_bayes\n",
    "    if np.argmax(p_bayes) == true_labels_train[i]:\n",
    "        well_classified.append(i)"
   ]
  },
  {
   "cell_type": "code",
   "execution_count": 7,
   "metadata": {},
   "outputs": [],
   "source": [
    "true_predictions = np.argmax(all_true_p_bayes, axis=1)\n",
    "generated_predictions = np.argmax(all_generated_p_bayes, axis=1)"
   ]
  },
  {
   "cell_type": "code",
   "execution_count": 35,
   "metadata": {},
   "outputs": [
    {
     "data": {
      "image/png": "[encoded data removed]",
      "text/plain": [
       "<Figure size 640x480 with 1 Axes>"
      ]
     },
     "metadata": {},
     "output_type": "display_data"
    }
   ],
   "source": [
    "values = {i:[] for i in range(10)}\n",
    "\n",
    "for i in range(n_samples):\n",
    "    values[true_predictions[i]].append(all_true_p_bayes[i][true_predictions[i]])\n",
    "\n",
    "means = np.array([np.mean(values[i]) for i in range(10)])\n",
    "stds = np.array([np.std(values[i]) for i in range(10)])\n",
    "\n",
    "detection_list = []\n",
    "false_positives_list = []\n",
    "\n",
    "for alpha in np.linspace(0., 1, 50):\n",
    "    tresholds = means - alpha*stds\n",
    "\n",
    "    detections = 0\n",
    "    for i in range(n_samples):\n",
    "        p_bayes = all_generated_p_bayes[i]\n",
    "        if np.max(p_bayes) < tresholds[generated_predictions[i]]:\n",
    "            detections += 1\n",
    "    detections /= n_samples\n",
    "\n",
    "    false_positives = 0\n",
    "    for i in well_classified:\n",
    "        p_bayes = all_true_p_bayes[i]\n",
    "        if np.max(p_bayes) < tresholds[true_predictions[i]]:\n",
    "            false_positives += 1\n",
    "    false_positives /= len(well_classified)\n",
    "\n",
    "    detection_list.append(detections)\n",
    "    false_positives_list.append(false_positives)\n",
    "\n",
    "plt.plot(false_positives_list, detection_list)\n",
    "plt.xlabel(\"False positives\")\n",
    "plt.ylabel(\"Detection rate\")\n",
    "plt.title(\"ROC curve\")\n",
    "plt.show()"
   ]
  }
 ],
 "metadata": {
  "kernelspec": {
   "display_name": ".venv",
   "language": "python",
   "name": "python3"
  },
  "language_info": {
   "codemirror_mode": {
    "name": "ipython",
    "version": 3
   },
   "file_extension": ".py",
   "mimetype": "text/x-python",
   "name": "python",
   "nbconvert_exporter": "python",
   "pygments_lexer": "ipython3",
   "version": "3.9.12"
  }
 },
 "nbformat": 4,
 "nbformat_minor": 2
}
