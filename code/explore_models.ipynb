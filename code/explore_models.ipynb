{
 "cells": [
  {
   "cell_type": "code",
   "execution_count": 61,
   "metadata": {},
   "outputs": [
    {
     "name": "stderr",
     "output_type": "stream",
     "text": [
      "/opt/homebrew/Caskroom/miniforge/base/envs/pgm/lib/python3.9/site-packages/orbax/checkpoint/type_handlers.py:1346: UserWarning: Couldn't find sharding info under RestoreArgs. Populating sharding info from sharding file. Please note restoration time will be slightly increased due to reading from file instead of directly from RestoreArgs.\n",
      "  warnings.warn(\n"
     ]
    }
   ],
   "source": [
    "import time\n",
    "\n",
    "import orbax.checkpoint as ocp\n",
    "from ml_collections import ConfigDict\n",
    "from pathlib import Path\n",
    "from utils import prepare_test_dataset\n",
    "from dataset_utils import get_dataset\n",
    "from jax import random\n",
    "from models.utils import sample_gaussian\n",
    "\n",
    "from flax import linen as nn\n",
    "import jax\n",
    "from jax import jacrev\n",
    "from functools import partial\n",
    "from jax.scipy.special import logsumexp\n",
    "import jax.numpy as jnp\n",
    "import matplotlib.pyplot as plt\n",
    "from tqdm import tqdm\n",
    "\n",
    "import models.ClassifierGFZ as ClassifierGFZ\n",
    "import models.ClassifierDFZ as ClassifierDFZ\n",
    "\n",
    "checkpoint_path = \"dfz-2-epochs-first-try-1\"\n",
    "path = Path.cwd() / Path(f\"checkpoints\") / Path(checkpoint_path)\n",
    "checkpoint = ocp.PyTreeCheckpointer().restore(path, item=None)\n",
    "\n",
    "config = ConfigDict(checkpoint[\"config\"])\n",
    "dataset_config = ConfigDict(checkpoint[\"dataset_config\"])\n",
    "\n",
    "if config.model_name == \"GFZ\":\n",
    "    classifier = ClassifierGFZ\n",
    "elif config.model_name == \"DFZ\":\n",
    "    classifier = ClassifierDFZ\n",
    "else:\n",
    "    raise NotImplementedError(config.model_name)\n",
    "\n",
    "_, test_ds = get_dataset(config.dataset)\n",
    "test_images, test_labels = prepare_test_dataset(\n",
    "    test_ds, dataset_config\n",
    "    )\n",
    "\n",
    "trained_params = checkpoint[\"params\"]\n",
    "\n",
    "log_likelyhood_fn = classifier.log_likelyhood_A\n",
    "\n",
    "test_key = random.PRNGKey(1111)\n",
    "\n",
    "test_key, model, _ = classifier.create_and_init(\n",
    "    test_key, config, dataset_config\n",
    ")"
   ]
  },
  {
   "cell_type": "code",
   "execution_count": 63,
   "metadata": {},
   "outputs": [],
   "source": [
    "def init_data(test_key, n_samples=10):\n",
    "    test_key, choice_key = random.split(test_key)\n",
    "    idx = random.choice(choice_key, jnp.arange(len(test_images)), (n_samples,), replace=False)\n",
    "\n",
    "    all_xs = test_images[idx]\n",
    "    true_ys = test_labels[idx]\n",
    "    true_labels = jnp.argmax(true_ys, axis=1)\n",
    "\n",
    "    K = model.K\n",
    "    batch_size = n_samples\n",
    "    test_key, epsilons = sample_gaussian(test_key, (batch_size, model.n_classes * K, model.d_latent))\n",
    "    epsilons = epsilons[:n_samples*model.n_classes]\n",
    "    all_ys = nn.one_hot(jnp.repeat(jnp.arange(model.n_classes), K), model.n_classes, dtype=jnp.float32)\n",
    "    \n",
    "    return test_key, all_xs, true_labels, epsilons, all_ys, K\n",
    "\n",
    "def get_model_output(x, epsilon, y, K):\n",
    "    z, logit_q_z_xy, logit_p_x_z, logit_p_y_xz = jax.vmap(\n",
    "            partial(model.apply, {'params': trained_params}, train=False),\n",
    "            in_axes=(None, 0, 0)\n",
    "        )(x, y, epsilon)\n",
    "\n",
    "    ll = log_likelyhood_fn(\n",
    "            z, logit_q_z_xy, logit_p_x_z, logit_p_y_xz\n",
    "        ).reshape(model.n_classes, K)\n",
    "    ll = logsumexp(ll, axis=1) - jnp.log(K)\n",
    "    return ll\n",
    "\n",
    "def get_model_jacobian(x, epsilon, y, K):\n",
    "    return jacrev(get_model_output, argnums=0)(x, epsilon, y, K)\n",
    "\n",
    "def map_label_to_name(y):\n",
    "    labels = [\"T-shirt/top\", \"Trouser\", \"Pullover\", \"Dress\", \"Coat\",\n",
    "              \"Sandal\", \"Shirt\", \"Sneaker\", \"Bag\", \"Ankle boot\"]\n",
    "    return labels[y]"
   ]
  },
  {
   "cell_type": "code",
   "execution_count": 70,
   "metadata": {},
   "outputs": [],
   "source": [
    "class DeepFool():\n",
    "    def __init__(self, model, max_iter=100, learning_rate=1):\n",
    "        self.model = model\n",
    "        self.n_classes = model.n_classes\n",
    "        self.max_iter = max_iter\n",
    "        self.learning_rate = learning_rate\n",
    "\n",
    "    def get_label(self, x, epsilon):\n",
    "        val = get_model_output(x, epsilon, self.y, self.K)\n",
    "        return jnp.argmax(val)\n",
    "\n",
    "    def get_likelihoods_and_gradients(self, x, epsilon):\n",
    "        \n",
    "        ## ToDo: check why this becomes very slow after a few iterations\n",
    "        J = get_model_jacobian(x, epsilon, self.y, self.K)\n",
    "        val = get_model_output(x, epsilon, self.y, self.K)\n",
    "        return val, J\n",
    "\n",
    "    def get_perturbation(self, x, epsilon, all_ys, K):\n",
    "        corrupted_x = x.copy()\n",
    "        self.y = all_ys\n",
    "        self.K = K\n",
    "        new_label = self.get_label(corrupted_x, epsilon)\n",
    "        k = self.get_label(x, epsilon)\n",
    "\n",
    "        @jax.jit\n",
    "        def pertubate(x):\n",
    "            likelihoods, gradients = self.get_likelihoods_and_gradients(x, epsilon)\n",
    "            w = gradients - gradients[None,k,...]\n",
    "            f = likelihoods - likelihoods[None,k]\n",
    "            perturbation = jnp.abs(f) / jnp.linalg.norm(w.squeeze(), axis=(1, 2))\n",
    "            perturbation = perturbation.at[k].set(jnp.inf)\n",
    "            idx = jnp.argmin(perturbation)\n",
    "            r_i = perturbation[idx] * w[idx] / jnp.linalg.norm(w[idx])\n",
    "            x += self.learning_rate * r_i\n",
    "            return x\n",
    "        \n",
    "        for iter in range(self.max_iter):\n",
    "            corrupted_x = pertubate(corrupted_x)\n",
    "            new_label = self.get_label(corrupted_x, epsilon)\n",
    "            if new_label != k:\n",
    "                break\n",
    "        perturbation_norm = jnp.linalg.norm(corrupted_x - x) / jnp.linalg.norm(x)\n",
    "        return corrupted_x, new_label, perturbation_norm"
   ]
  },
  {
   "cell_type": "code",
   "execution_count": 77,
   "metadata": {},
   "outputs": [],
   "source": [
    "def get_average_performance(corruption_model, all_xs, epsilons, all_ys, K):\n",
    "    perturbation_norms = []\n",
    "    n_samples = len(all_xs)\n",
    "    for i in tqdm(range(n_samples)):\n",
    "        x = all_xs[i]\n",
    "        epsilon = epsilons[i]\n",
    "        _, _, perturbation_norm = corruption_model.get_perturbation(x, epsilon, all_ys, K)\n",
    "        perturbation_norms.append(perturbation_norm)\n",
    "    return perturbation_norms"
   ]
  },
  {
   "cell_type": "code",
   "execution_count": 78,
   "metadata": {},
   "outputs": [],
   "source": [
    "def get_average_performance_jax(corruption_model, all_xs, epsilons, all_ys, K):\n",
    "    perturbation_norms = jax.vmap(\n",
    "        partial(corruption_model.get_perturbation, all_ys=all_ys, K=K),\n",
    "        in_axes=(0, 0),\n",
    "        out_axes=(None, None, 0)\n",
    "    )(all_xs, epsilons)\n",
    "    return perturbation_norms"
   ]
  },
  {
   "cell_type": "code",
   "execution_count": 79,
   "metadata": {},
   "outputs": [],
   "source": [
    "n_samples = 100\n",
    "test_key, all_xs, true_labels, epsilons, all_ys, K = init_data(test_key, n_samples=n_samples)\n",
    "\n",
    "corruption_model = DeepFool(model)\n",
    "\n",
    "#perturbation_norms = get_average_performance(corruption_model, all_xs, epsilons, all_ys, K)\n",
    "perturbation_norms = get_average_performance_jax(corruption_model, all_xs, epsilons, all_ys, K)\n",
    "\n",
    "print(f'Average perturbation norm: {jnp.mean(perturbation_norms):>.4f}')"
   ]
  },
  {
   "cell_type": "code",
   "execution_count": 58,
   "metadata": {},
   "outputs": [
    {
     "data": {
      "image/png": "[encoded data removed]",
      "text/plain": [
       "<Figure size 1000x500 with 2 Axes>"
      ]
     },
     "metadata": {},
     "output_type": "display_data"
    }
   ],
   "source": [
    "i = np.random.randint(n_samples)\n",
    "\n",
    "x = all_xs[i]\n",
    "epsilon = epsilons[i]\n",
    "true_label = true_labels[i]\n",
    "\n",
    "corruption_model = DeepFool(model, learning_rate=0.2)\n",
    "corrupted_x, new_label, perturbation_norm = corruption_model.get_perturbation(x, epsilon, all_ys, K)\n",
    "\n",
    "fig, axs = plt.subplots(1, 2, figsize=(10, 5))\n",
    "axs[0].imshow(x.reshape(28, 28), cmap=\"gray\")\n",
    "axs[0].set_title(f\"Original image (label = '{map_label_to_name(true_label)}')\")\n",
    "axs[1].imshow(corrupted_x.reshape(28, 28), cmap=\"gray\")\n",
    "axs[1].set_title(f\"Corrupted image (label = '{map_label_to_name(new_label)}')\")\n",
    "fig.suptitle(f\"DeepFool example - perturbation norm: {perturbation_norm:.4f}\")\n",
    "plt.show()"
   ]
  }
 ],
 "metadata": {
  "kernelspec": {
   "display_name": "Python 3",
   "language": "python",
   "name": "python3"
  },
  "language_info": {
   "codemirror_mode": {
    "name": "ipython",
    "version": 3
   },
   "file_extension": ".py",
   "mimetype": "text/x-python",
   "name": "python",
   "nbconvert_exporter": "python",
   "pygments_lexer": "ipython3",
   "version": "3.9.18"
  }
 },
 "nbformat": 4,
 "nbformat_minor": 2
}
