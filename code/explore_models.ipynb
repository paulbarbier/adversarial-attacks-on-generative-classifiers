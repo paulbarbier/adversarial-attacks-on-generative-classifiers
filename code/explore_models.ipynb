{
 "cells": [
  {
   "cell_type": "code",
   "execution_count": 1,
   "metadata": {},
   "outputs": [
    {
     "name": "stderr",
     "output_type": "stream",
     "text": [
      "/Users/alexandrelutt/Desktop/Travail/ENPC/3A/MVA/Probabilistic Graphical Models/adversarial-attacks-on-generative-classifiers/.venv/lib/python3.9/site-packages/orbax/checkpoint/type_handlers.py:1346: UserWarning: Couldn't find sharding info under RestoreArgs. Populating sharding info from sharding file. Please note restoration time will be slightly increased due to reading from file instead of directly from RestoreArgs.\n",
      "  warnings.warn(\n"
     ]
    }
   ],
   "source": [
    "import orbax.checkpoint as ocp\n",
    "from ml_collections import ConfigDict\n",
    "from pathlib import Path\n",
    "from utils import prepare_test_dataset\n",
    "from dataset_utils import get_dataset\n",
    "from jax import random\n",
    "from models.utils import sample_gaussian\n",
    "\n",
    "import models.ClassifierGFZ as ClassifierGFZ\n",
    "import models.ClassifierDFZ as ClassifierDFZ\n",
    "\n",
    "checkpoint_path = \"dfz-2-epochs-first-try-1\"\n",
    "path = Path.cwd() / Path(f\"checkpoints\") / Path(checkpoint_path)\n",
    "checkpoint = ocp.PyTreeCheckpointer().restore(path, item=None)\n",
    "\n",
    "config = ConfigDict(checkpoint[\"config\"])\n",
    "dataset_config = ConfigDict(checkpoint[\"dataset_config\"])\n",
    "\n",
    "if config.model_name == \"GFZ\":\n",
    "    classifier = ClassifierGFZ\n",
    "elif config.model_name == \"DFZ\":\n",
    "    classifier = ClassifierDFZ\n",
    "else:\n",
    "    raise NotImplementedError(config.model_name)\n",
    "\n",
    "_, test_ds = get_dataset(config.dataset)\n",
    "test_images, test_labels = prepare_test_dataset(\n",
    "    test_ds, dataset_config\n",
    "    )\n",
    "\n",
    "trained_params = checkpoint[\"params\"]\n",
    "\n",
    "log_likelyhood_fn = classifier.log_likelyhood_A\n",
    "\n",
    "test_key = random.PRNGKey(config.seed)\n",
    "\n",
    "test_key, model, _ = classifier.create_and_init(\n",
    "    test_key, config, dataset_config\n",
    ")"
   ]
  },
  {
   "cell_type": "code",
   "execution_count": 2,
   "metadata": {},
   "outputs": [],
   "source": [
    "from flax import linen as nn\n",
    "import jax\n",
    "from jax import jacrev\n",
    "import numpy as np\n",
    "from functools import partial\n",
    "from jax.scipy.special import logsumexp\n",
    "import jax.numpy as jnp\n",
    "import matplotlib.pyplot as plt\n",
    "\n",
    "idx = np.random.randint(0, len(test_images))\n",
    "\n",
    "x = test_images[idx]\n",
    "true_y = test_labels[idx]\n",
    "true_label = np.argmax(true_y)\n",
    "\n",
    "K = model.K\n",
    "batch_size = 1\n",
    "test_key, epsilon = sample_gaussian(test_key, (batch_size, model.n_classes * K, model.d_latent))\n",
    "epsilon = epsilon[0]\n",
    "y = nn.one_hot(jnp.repeat(jnp.arange(model.n_classes), K), model.n_classes, dtype=jnp.float32)\n",
    "\n",
    "def get_model_output(x, epsilon):\n",
    "    z, logit_q_z_xy, logit_p_x_z, logit_p_y_xz = jax.vmap(\n",
    "            partial(model.apply, {'params': trained_params}, train=False),\n",
    "            in_axes=(None, 0, 0)\n",
    "        )(x, y, epsilon)\n",
    "\n",
    "    ll = log_likelyhood_fn(\n",
    "            z, logit_q_z_xy, logit_p_x_z, logit_p_y_xz\n",
    "        ).reshape(model.n_classes, K)\n",
    "    ll = logsumexp(ll, axis=1) - np.log(K)\n",
    "    return ll\n",
    "\n",
    "def get_model_jacobian(x, epsilon):\n",
    "    return jacrev(get_model_output, argnums=0)(x, epsilon)"
   ]
  },
  {
   "cell_type": "code",
   "execution_count": 6,
   "metadata": {},
   "outputs": [],
   "source": [
    "class DeepFool():\n",
    "    def __init__(self, model, learning_rate=0.2):\n",
    "        self.model = model\n",
    "        self.n_classes = model.n_classes\n",
    "        self.learning_rate = learning_rate\n",
    "\n",
    "    def get_label(self, x, epsilon):\n",
    "        val = get_model_output(x, epsilon)\n",
    "        return np.argmax(val)\n",
    "\n",
    "    def get_likelihoods_and_gradients(self, x, epsilon):\n",
    "        J = get_model_jacobian(x, epsilon)\n",
    "        val = get_model_output(x, epsilon)\n",
    "        return val, J\n",
    "\n",
    "    def get_perturbation(self, x, epsilon):\n",
    "        corrupted_x = x.copy()\n",
    "        n_iter = 0\n",
    "        new_label = self.get_label(corrupted_x, epsilon)\n",
    "        k = self.get_label(x, epsilon)\n",
    "        while new_label == k:\n",
    "            best_pert = np.inf\n",
    "            likelihoods, gradients = self.get_likelihoods_and_gradients(corrupted_x, epsilon)\n",
    "            for j in range(self.n_classes):\n",
    "                if j != k:\n",
    "                    w_j = gradients[j] - gradients[k]\n",
    "                    f_j = likelihoods[j] - likelihoods[k]\n",
    "                    pert = np.abs(f_j) / np.linalg.norm(w_j)\n",
    "                    if pert < best_pert:\n",
    "                        w = w_j\n",
    "                        f = f_j\n",
    "            r_i = (np.abs(f) / np.linalg.norm(w)**2) * w\n",
    "            corrupted_x = corrupted_x + self.learning_rate*r_i\n",
    "            n_iter += 1\n",
    "            new_label = self.get_label(corrupted_x, epsilon)\n",
    "        return corrupted_x, new_label"
   ]
  },
  {
   "cell_type": "code",
   "execution_count": 7,
   "metadata": {},
   "outputs": [],
   "source": [
    "DeepFool = DeepFool(model)\n",
    "corrupted_x, new_label = DeepFool.get_perturbation(x, epsilon)"
   ]
  },
  {
   "cell_type": "code",
   "execution_count": 8,
   "metadata": {},
   "outputs": [
    {
     "data": {
      "image/png": "[encoded data removed]",
      "text/plain": [
       "<Figure size 1000x500 with 2 Axes>"
      ]
     },
     "metadata": {},
     "output_type": "display_data"
    }
   ],
   "source": [
    "def map_label_to_name(y):\n",
    "    labels = [\"T-shirt/top\", \"Trouser\", \"Pullover\", \"Dress\", \"Coat\",\n",
    "              \"Sandal\", \"Shirt\", \"Sneaker\", \"Bag\", \"Ankle boot\"]\n",
    "    return labels[y]\n",
    "\n",
    "fig, axs = plt.subplots(1, 2, figsize=(10, 5))\n",
    "axs[0].imshow(x.reshape(28, 28), cmap=\"gray\")\n",
    "axs[0].set_title(f\"Original image (label = '{map_label_to_name(true_label)}')\")\n",
    "axs[1].imshow(corrupted_x.reshape(28, 28), cmap=\"gray\")\n",
    "axs[1].set_title(f\"Corrupted image (label = '{map_label_to_name(new_label)}')\")\n",
    "plt.show()"
   ]
  },
  {
   "cell_type": "code",
   "execution_count": null,
   "metadata": {},
   "outputs": [],
   "source": []
  }
 ],
 "metadata": {
  "kernelspec": {
   "display_name": "Python 3",
   "language": "python",
   "name": "python3"
  },
  "language_info": {
   "codemirror_mode": {
    "name": "ipython",
    "version": 3
   },
   "file_extension": ".py",
   "mimetype": "text/x-python",
   "name": "python",
   "nbconvert_exporter": "python",
   "pygments_lexer": "ipython3",
   "version": "3.9.12"
  }
 },
 "nbformat": 4,
 "nbformat_minor": 2
}
