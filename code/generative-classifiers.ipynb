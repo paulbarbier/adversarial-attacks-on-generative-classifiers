{
 "cells": [
  {
   "cell_type": "markdown",
   "metadata": {},
   "source": [
    "# Generative Classifiers"
   ]
  },
  {
   "cell_type": "code",
   "execution_count": 3,
   "metadata": {},
   "outputs": [],
   "source": [
    "import jax\n",
    "from jax import random, jit, vmap\n",
    "from jax.nn import one_hot\n",
    "from jax.nn.initializers import glorot_uniform, glorot_normal\n",
    "from jax.tree_util import tree_map\n",
    "from jax.scipy.special import logsumexp\n",
    "from functools import partial # needed to make arguments static in jit compiled code\n",
    "import jax.numpy as jnp\n",
    "from flax import linen as nn\n",
    "from flax.training import train_state\n",
    "import numpy as np\n",
    "from torchvision.datasets import FashionMNIST\n",
    "from torch.utils import data\n",
    "from tqdm import tqdm\n",
    "from tqdm import trange\n",
    "import optax\n",
    "import matplotlib.pyplot as plt\n",
    "import pickle\n",
    "import os\n",
    "from objax.functional.loss import cross_entropy_logits\n",
    "from pathlib import Path\n",
    "import orbax.checkpoint as ocp\n",
    "\n",
    "\n",
    "from datasets import get_dataset, get_dataloader"
   ]
  },
  {
   "cell_type": "code",
   "execution_count": 2,
   "metadata": {},
   "outputs": [],
   "source": [
    "# https://github.com/google-deepmind/dm-haiku/issues/18#issuecomment-981814403\n",
    "MODELS_PATH = \"../model/\"\n",
    "def save_models(model, path: str):\n",
    "    with open(os.path.join(MODELS_PATH, path), \"wb\") as file:\n",
    "        pickle.dump(model, file)"
   ]
  },
  {
   "cell_type": "code",
   "execution_count": 3,
   "metadata": {},
   "outputs": [
    {
     "data": {
      "text/plain": [
       "CpuDevice(id=0)"
      ]
     },
     "execution_count": 3,
     "metadata": {},
     "output_type": "execute_result"
    }
   ],
   "source": [
    "# because Apple sucks\n",
    "jax.default_device = jax.devices(\"cpu\")[0]\n",
    "jax.default_device"
   ]
  },
  {
   "cell_type": "markdown",
   "metadata": {},
   "source": [
    "Let's store all the parameters here:"
   ]
  },
  {
   "cell_type": "code",
   "execution_count": null,
   "metadata": {},
   "outputs": [],
   "source": [
    "args = {\n",
    "    \"seed\": 123,\n",
    "    \"batch_size\": 50,\n",
    "    \"learning_rate\": 1e-4,\n",
    "    \"d_epsilon\": 64,\n",
    "}"
   ]
  },
  {
   "cell_type": "code",
   "execution_count": 4,
   "metadata": {},
   "outputs": [
    {
     "data": {
      "text/plain": [
       "Array([  0, 123], dtype=uint32)"
      ]
     },
     "execution_count": 4,
     "metadata": {},
     "output_type": "execute_result"
    }
   ],
   "source": [
    "key = random.PRNGKey(args['seed'])\n",
    "key"
   ]
  },
  {
   "cell_type": "markdown",
   "metadata": {},
   "source": [
    "## Dataloader"
   ]
  },
  {
   "cell_type": "markdown",
   "metadata": {},
   "source": [
    "- ### FashionMNIST: a realistic dataset"
   ]
  },
  {
   "cell_type": "code",
   "execution_count": 6,
   "metadata": {},
   "outputs": [
    {
     "name": "stdout",
     "output_type": "stream",
     "text": [
      "test_images (10000, 28, 28, 1) test_labels (10000, 10)\n",
      "n_classes 10\n"
     ]
    }
   ],
   "source": [
    "fashion_mnist_train_ds, fashion_mnist_test_ds = get_dataset(\"fashion-mnist\")\n",
    "\n",
    "args[\"n_train_images\"] = len(fashion_mnist_train_ds.data)\n",
    "args[\"n_classes\"] = len(np.unique(fashion_mnist_train_ds.targets))\n",
    "\n",
    "fashion_mnist_train_dl = get_dataloader(fashion_mnist_train_ds, batch_size=args['batch_size'])\n",
    "\n",
    "# Get full test dataset\n",
    "test_images = jnp.array(fashion_mnist_test_ds.data, dtype=jnp.float32).reshape(-1, 28, 28, 1)/255.0\n",
    "test_labels = one_hot(jnp.array(fashion_mnist_test_ds.targets, dtype=jnp.float32), args['n_classes'])\n",
    "print(\"test_images\", test_images.shape, \"test_labels\", test_labels.shape)\n",
    "print(\"n_classes\", args['n_classes'])"
   ]
  },
  {
   "cell_type": "code",
   "execution_count": 7,
   "metadata": {},
   "outputs": [
    {
     "data": {
      "image/png": "[encoded data removed]",
      "text/plain": [
       "<Figure size 640x480 with 1 Axes>"
      ]
     },
     "metadata": {},
     "output_type": "display_data"
    }
   ],
   "source": [
    "def plot_image(image):\n",
    "    plt.imshow((image.reshape(28, 28) * 255).astype(np.uint8), interpolation='nearest')\n",
    "    plt.show()\n",
    "\n",
    "plot_image(test_images[0])"
   ]
  },
  {
   "cell_type": "markdown",
   "metadata": {},
   "source": [
    "## The model"
   ]
  },
  {
   "cell_type": "markdown",
   "metadata": {},
   "source": [
    "Our model where $\\theta$ and $\\phi$ are learnable parameters:"
   ]
  },
  {
   "cell_type": "markdown",
   "metadata": {},
   "source": [
    "- Let's take the GFZ probabilistic graphical model for a first implementation: $p(x,z,y)=p(z)p(y|z)p(x|z,y)$.\n",
    "\n",
    "`\n",
    "q(z|x,y) is the same across all VAE-based classifiers. It starts with a 3-layer\n",
    "convolutional neural network with 5 ×5 filters and 64 channels, with a max-pooling operation after each convolution. Then,\n",
    "the convolutional network is followed by a MLP with 2 hidden layers, each with 500 units, to produce the mean and variance\n",
    "parameters of q. The label y is injected into the MLP at the first hidden layer, as a one hot encoding (i.e. for MNIST, the\n",
    "first hidden layer has 500+10 units). The latent dimension is dim(z) = 64.\n",
    "`"
   ]
  },
  {
   "cell_type": "code",
   "execution_count": 8,
   "metadata": {},
   "outputs": [],
   "source": [
    "def log_gaussian(x, mu=0.0, logsigma=0.0):\n",
    "    delta = ((x - mu) / jnp.exp(logsigma))**2\n",
    "    logits = -(0.5*np.log(2*np.pi) + logsigma + 0.5*delta)\n",
    "    return jnp.sum(logits)\n",
    "\n",
    "def transform(epsilon, mu, log_sigma):\n",
    "    sigma = jnp.exp(log_sigma)\n",
    "    z = mu + sigma * epsilon\n",
    "    return z"
   ]
  },
  {
   "cell_type": "code",
   "execution_count": 9,
   "metadata": {},
   "outputs": [],
   "source": [
    "class Log_q_z_xy(nn.Module):\n",
    "    n_classes = 10\n",
    "    d_epsilon = 64\n",
    "    n_convolutions = 3\n",
    "    n_channels = 64\n",
    "    kernel_size = (5, 5)\n",
    "    strides = (2, 2)\n",
    "    d_hidden = 500\n",
    "\n",
    "    @nn.compact\n",
    "    def __call__(self, X, y, epsilon): # X: (height, width), y: (n_classes,), epsilon: (d_epsilon,) -> (d_epsilon,), 0\n",
    "        for _ in range(self.n_convolutions):\n",
    "            X = nn.Conv(\n",
    "                features=self.n_channels, \n",
    "                kernel_size=self.kernel_size, \n",
    "                strides=self.strides, \n",
    "                kernel_init=glorot_normal(),\n",
    "            )(X)\n",
    "            X = nn.relu(X)\n",
    "\n",
    "        X_flatten = X.reshape(-1)\n",
    "        X_flatten = nn.Dense(\n",
    "            features=self.d_hidden, \n",
    "            use_bias=True,\n",
    "            kernel_init=glorot_uniform(), \n",
    "        )(X_flatten)\n",
    "        X_flatten = nn.relu(X_flatten)\n",
    "        \n",
    "        output = jnp.concatenate((X_flatten, y), axis=0)\n",
    "        output = nn.Dense(\n",
    "            features=self.d_hidden, \n",
    "            use_bias=False,\n",
    "            kernel_init=glorot_uniform(), \n",
    "        )(output)\n",
    "        output = nn.relu(output)\n",
    "\n",
    "        output = nn.Dense(\n",
    "            features=2*self.d_epsilon, \n",
    "            use_bias=True,\n",
    "            kernel_init=glorot_uniform(), \n",
    "        )(output)\n",
    "        # end of model\n",
    "        mu, log_sigma = jnp.split(output, 2)\n",
    "        \n",
    "        z = transform(epsilon, mu, log_sigma)\n",
    "        logit = log_gaussian(z, mu, log_sigma)\n",
    "        return z, logit"
   ]
  },
  {
   "cell_type": "code",
   "execution_count": 10,
   "metadata": {},
   "outputs": [
    {
     "name": "stdout",
     "output_type": "stream",
     "text": [
      "\n",
      "\u001b[3m                                      Log_q_z_xy Summary                                      \u001b[0m\n",
      "┏━━━━━━━━━┳━━━━━━━━━━━━┳━━━━━━━━━━━━━━━━━━━━┳━━━━━━━━━━━━━━━━━━━┳━━━━━━━━━━━━━━━━━━━━━━━━━━━━┓\n",
      "┃\u001b[1m \u001b[0m\u001b[1mpath   \u001b[0m\u001b[1m \u001b[0m┃\u001b[1m \u001b[0m\u001b[1mmodule    \u001b[0m\u001b[1m \u001b[0m┃\u001b[1m \u001b[0m\u001b[1minputs            \u001b[0m\u001b[1m \u001b[0m┃\u001b[1m \u001b[0m\u001b[1moutputs          \u001b[0m\u001b[1m \u001b[0m┃\u001b[1m \u001b[0m\u001b[1mparams                    \u001b[0m\u001b[1m \u001b[0m┃\n",
      "┡━━━━━━━━━╇━━━━━━━━━━━━╇━━━━━━━━━━━━━━━━━━━━╇━━━━━━━━━━━━━━━━━━━╇━━━━━━━━━━━━━━━━━━━━━━━━━━━━┩\n",
      "│         │ Log_q_z_xy │ - \u001b[2mfloat32\u001b[0m[28,28,1] │ - \u001b[2mfloat32\u001b[0m[64]     │                            │\n",
      "│         │            │ - \u001b[2mfloat32\u001b[0m[10]      │ - \u001b[2mfloat32\u001b[0m[]       │                            │\n",
      "│         │            │ - \u001b[2mfloat32\u001b[0m[64]      │                   │                            │\n",
      "├─────────┼────────────┼────────────────────┼───────────────────┼────────────────────────────┤\n",
      "│ Conv_0  │ Conv       │ \u001b[2mfloat32\u001b[0m[28,28,1]   │ \u001b[2mfloat32\u001b[0m[14,14,64] │ bias: \u001b[2mfloat32\u001b[0m[64]          │\n",
      "│         │            │                    │                   │ kernel: \u001b[2mfloat32\u001b[0m[5,5,1,64]  │\n",
      "│         │            │                    │                   │                            │\n",
      "│         │            │                    │                   │ \u001b[1m1,664 \u001b[0m\u001b[1;2m(6.7 KB)\u001b[0m             │\n",
      "├─────────┼────────────┼────────────────────┼───────────────────┼────────────────────────────┤\n",
      "│ Conv_1  │ Conv       │ \u001b[2mfloat32\u001b[0m[14,14,64]  │ \u001b[2mfloat32\u001b[0m[7,7,64]   │ bias: \u001b[2mfloat32\u001b[0m[64]          │\n",
      "│         │            │                    │                   │ kernel: \u001b[2mfloat32\u001b[0m[5,5,64,64] │\n",
      "│         │            │                    │                   │                            │\n",
      "│         │            │                    │                   │ \u001b[1m102,464 \u001b[0m\u001b[1;2m(409.9 KB)\u001b[0m         │\n",
      "├─────────┼────────────┼────────────────────┼───────────────────┼────────────────────────────┤\n",
      "│ Conv_2  │ Conv       │ \u001b[2mfloat32\u001b[0m[7,7,64]    │ \u001b[2mfloat32\u001b[0m[4,4,64]   │ bias: \u001b[2mfloat32\u001b[0m[64]          │\n",
      "│         │            │                    │                   │ kernel: \u001b[2mfloat32\u001b[0m[5,5,64,64] │\n",
      "│         │            │                    │                   │                            │\n",
      "│         │            │                    │                   │ \u001b[1m102,464 \u001b[0m\u001b[1;2m(409.9 KB)\u001b[0m         │\n",
      "├─────────┼────────────┼────────────────────┼───────────────────┼────────────────────────────┤\n",
      "│ Dense_0 │ Dense      │ \u001b[2mfloat32\u001b[0m[1024]      │ \u001b[2mfloat32\u001b[0m[500]      │ bias: \u001b[2mfloat32\u001b[0m[500]         │\n",
      "│         │            │                    │                   │ kernel: \u001b[2mfloat32\u001b[0m[1024,500]  │\n",
      "│         │            │                    │                   │                            │\n",
      "│         │            │                    │                   │ \u001b[1m512,500 \u001b[0m\u001b[1;2m(2.0 MB)\u001b[0m           │\n",
      "├─────────┼────────────┼────────────────────┼───────────────────┼────────────────────────────┤\n",
      "│ Dense_1 │ Dense      │ \u001b[2mfloat32\u001b[0m[510]       │ \u001b[2mfloat32\u001b[0m[500]      │ kernel: \u001b[2mfloat32\u001b[0m[510,500]   │\n",
      "│         │            │                    │                   │                            │\n",
      "│         │            │                    │                   │ \u001b[1m255,000 \u001b[0m\u001b[1;2m(1.0 MB)\u001b[0m           │\n",
      "├─────────┼────────────┼────────────────────┼───────────────────┼────────────────────────────┤\n",
      "│ Dense_2 │ Dense      │ \u001b[2mfloat32\u001b[0m[500]       │ \u001b[2mfloat32\u001b[0m[128]      │ bias: \u001b[2mfloat32\u001b[0m[128]         │\n",
      "│         │            │                    │                   │ kernel: \u001b[2mfloat32\u001b[0m[500,128]   │\n",
      "│         │            │                    │                   │                            │\n",
      "│         │            │                    │                   │ \u001b[1m64,128 \u001b[0m\u001b[1;2m(256.5 KB)\u001b[0m          │\n",
      "├─────────┼────────────┼────────────────────┼───────────────────┼────────────────────────────┤\n",
      "│\u001b[1m \u001b[0m\u001b[1m       \u001b[0m\u001b[1m \u001b[0m│\u001b[1m \u001b[0m\u001b[1m          \u001b[0m\u001b[1m \u001b[0m│\u001b[1m \u001b[0m\u001b[1m                  \u001b[0m\u001b[1m \u001b[0m│\u001b[1m \u001b[0m\u001b[1m            Total\u001b[0m\u001b[1m \u001b[0m│\u001b[1m \u001b[0m\u001b[1m1,038,220 \u001b[0m\u001b[1;2m(4.2 MB)\u001b[0m\u001b[1m        \u001b[0m\u001b[1m \u001b[0m│\n",
      "└─────────┴────────────┴────────────────────┴───────────────────┴────────────────────────────┘\n",
      "\u001b[1m                                                                                              \u001b[0m\n",
      "\u001b[1m                             Total Parameters: 1,038,220 \u001b[0m\u001b[1;2m(4.2 MB)\u001b[0m\u001b[1m                             \u001b[0m\n",
      "\n",
      "\n"
     ]
    }
   ],
   "source": [
    "X = jnp.ones((28, 28, 1), dtype=jnp.float32)\n",
    "y = jnp.ones((10,), dtype=jnp.float32)\n",
    "epsilon = jnp.ones((64), dtype=jnp.float32)\n",
    "print(Log_q_z_xy().tabulate(key, X, y, epsilon, console_kwargs={\"width\": 200}))"
   ]
  },
  {
   "cell_type": "markdown",
   "metadata": {},
   "source": [
    "`\n",
    "For p(y|z) we use a MLP with 1 hidden layer composed of 500 units. For p(x|y,z) we used an MLP with 2\n",
    "hidden layers, each with 500 units, and 4 ×4 ×64 dimension output, followed by a 3-layer deconvolutional network\n",
    "with 5 ×5 kernel size, stride 2 and [64, 64, 1] channels.\n",
    "`"
   ]
  },
  {
   "cell_type": "code",
   "execution_count": 11,
   "metadata": {},
   "outputs": [],
   "source": [
    "class Log_p_y_z(nn.Module):\n",
    "    d_hidden = 500\n",
    "    n_classes = 10\n",
    "\n",
    "    @nn.compact\n",
    "    def __call__(self, y, z): # y: (n_classes,), z: (d_epsilon,) -> 0\n",
    "        logits = nn.Dense(\n",
    "            features=self.d_hidden, \n",
    "            use_bias=True,\n",
    "            kernel_init=glorot_uniform(), \n",
    "        )(z)\n",
    "        logits = nn.relu(logits)\n",
    "        logits = nn.Dense(\n",
    "            features=self.n_classes, \n",
    "            use_bias=True,\n",
    "            kernel_init=glorot_uniform(), \n",
    "        )(logits)\n",
    "        return -cross_entropy_logits(logits, y)"
   ]
  },
  {
   "cell_type": "code",
   "execution_count": 12,
   "metadata": {},
   "outputs": [
    {
     "name": "stdout",
     "output_type": "stream",
     "text": [
      "\n",
      "\u001b[3m                               Log_p_y_z Summary                                \u001b[0m\n",
      "┏━━━━━━━━━┳━━━━━━━━━━━┳━━━━━━━━━━━━━━━┳━━━━━━━━━━━━━━┳━━━━━━━━━━━━━━━━━━━━━━━━━┓\n",
      "┃\u001b[1m \u001b[0m\u001b[1mpath   \u001b[0m\u001b[1m \u001b[0m┃\u001b[1m \u001b[0m\u001b[1mmodule   \u001b[0m\u001b[1m \u001b[0m┃\u001b[1m \u001b[0m\u001b[1minputs       \u001b[0m\u001b[1m \u001b[0m┃\u001b[1m \u001b[0m\u001b[1moutputs     \u001b[0m\u001b[1m \u001b[0m┃\u001b[1m \u001b[0m\u001b[1mparams                 \u001b[0m\u001b[1m \u001b[0m┃\n",
      "┡━━━━━━━━━╇━━━━━━━━━━━╇━━━━━━━━━━━━━━━╇━━━━━━━━━━━━━━╇━━━━━━━━━━━━━━━━━━━━━━━━━┩\n",
      "│         │ Log_p_y_z │ - \u001b[2mfloat32\u001b[0m[10] │ \u001b[2mfloat32\u001b[0m[]    │                         │\n",
      "│         │           │ - \u001b[2mfloat32\u001b[0m[64] │              │                         │\n",
      "├─────────┼───────────┼───────────────┼──────────────┼─────────────────────────┤\n",
      "│ Dense_0 │ Dense     │ \u001b[2mfloat32\u001b[0m[64]   │ \u001b[2mfloat32\u001b[0m[500] │ bias: \u001b[2mfloat32\u001b[0m[500]      │\n",
      "│         │           │               │              │ kernel: \u001b[2mfloat32\u001b[0m[64,500] │\n",
      "│         │           │               │              │                         │\n",
      "│         │           │               │              │ \u001b[1m32,500 \u001b[0m\u001b[1;2m(130.0 KB)\u001b[0m       │\n",
      "├─────────┼───────────┼───────────────┼──────────────┼─────────────────────────┤\n",
      "│ Dense_1 │ Dense     │ \u001b[2mfloat32\u001b[0m[500]  │ \u001b[2mfloat32\u001b[0m[10]  │ bias: \u001b[2mfloat32\u001b[0m[10]       │\n",
      "│         │           │               │              │ kernel: \u001b[2mfloat32\u001b[0m[500,10] │\n",
      "│         │           │               │              │                         │\n",
      "│         │           │               │              │ \u001b[1m5,010 \u001b[0m\u001b[1;2m(20.0 KB)\u001b[0m         │\n",
      "├─────────┼───────────┼───────────────┼──────────────┼─────────────────────────┤\n",
      "│\u001b[1m \u001b[0m\u001b[1m       \u001b[0m\u001b[1m \u001b[0m│\u001b[1m \u001b[0m\u001b[1m         \u001b[0m\u001b[1m \u001b[0m│\u001b[1m \u001b[0m\u001b[1m             \u001b[0m\u001b[1m \u001b[0m│\u001b[1m \u001b[0m\u001b[1m       Total\u001b[0m\u001b[1m \u001b[0m│\u001b[1m \u001b[0m\u001b[1m37,510 \u001b[0m\u001b[1;2m(150.0 KB)\u001b[0m\u001b[1m      \u001b[0m\u001b[1m \u001b[0m│\n",
      "└─────────┴───────────┴───────────────┴──────────────┴─────────────────────────┘\n",
      "\u001b[1m                                                                                \u001b[0m\n",
      "\u001b[1m                      Total Parameters: 37,510 \u001b[0m\u001b[1;2m(150.0 KB)\u001b[0m\u001b[1m                       \u001b[0m\n",
      "\n",
      "\n"
     ]
    }
   ],
   "source": [
    "y = jnp.ones((10,), dtype=jnp.float32)\n",
    "z = jnp.ones((64), dtype=jnp.float32)\n",
    "print(Log_p_y_z().tabulate(key, y, z, console_kwargs={\"width\": 200}))"
   ]
  },
  {
   "cell_type": "code",
   "execution_count": 13,
   "metadata": {},
   "outputs": [],
   "source": [
    "class Log_p_x_yz(nn.Module):\n",
    "    d_hidden = 500\n",
    "    d_epsilon = 64\n",
    "    n_classes = 10\n",
    "    n_channels = 64\n",
    "    input_kernel = (4, 4)\n",
    "    kernel_size = (5, 5)\n",
    "    strides = (2, 2)\n",
    "    \n",
    "\n",
    "    @nn.compact\n",
    "    def __call__(self, X, y, z): # X: (height, width), y: (n_classes,), z: (d_epsilon,) -> 0\n",
    "        inputs = jnp.concatenate([y, z], 0)\n",
    "        inputs = nn.Dense(\n",
    "            features=self.d_hidden, \n",
    "            use_bias=True,\n",
    "            kernel_init=glorot_uniform(), \n",
    "        )(inputs)\n",
    "        inputs = nn.relu(inputs)\n",
    "        inputs = nn.Dense(\n",
    "            features=np.prod(self.input_kernel) * self.n_channels, \n",
    "            use_bias=True,\n",
    "            kernel_init=glorot_uniform(), \n",
    "        )(inputs)\n",
    "        inputs = nn.relu(inputs)\n",
    "        \n",
    "        inputs = inputs.reshape(self.input_kernel + (self.n_channels,))\n",
    "        inputs = nn.ConvTranspose(\n",
    "            features=self.n_channels,\n",
    "            kernel_size=self.kernel_size,\n",
    "            strides=self.strides,\n",
    "            padding=(2, 2),\n",
    "            kernel_init=glorot_uniform(),\n",
    "        )(inputs)\n",
    "        inputs = nn.relu(inputs)\n",
    "\n",
    "        inputs = nn.ConvTranspose(\n",
    "            features=self.n_channels,\n",
    "            kernel_size=self.kernel_size,\n",
    "            strides=self.strides,\n",
    "            padding=((2, 3), (2, 3)),\n",
    "            kernel_init=glorot_uniform(),\n",
    "        )(inputs)\n",
    "        inputs = nn.relu(inputs)\n",
    "\n",
    "        inputs = nn.ConvTranspose(\n",
    "            features=1,\n",
    "            kernel_size=self.kernel_size,\n",
    "            strides=self.strides,\n",
    "            padding=((2, 3), (2, 3)),\n",
    "            kernel_init=glorot_uniform(),\n",
    "        )(inputs)\n",
    "        generated_X = nn.sigmoid(inputs)\n",
    "\n",
    "        logit = -jnp.sum((generated_X - X)**2)\n",
    "        return logit"
   ]
  },
  {
   "cell_type": "code",
   "execution_count": 14,
   "metadata": {},
   "outputs": [
    {
     "name": "stdout",
     "output_type": "stream",
     "text": [
      "\n",
      "\u001b[3m                                           Log_p_x_yz Summary                                            \u001b[0m\n",
      "┏━━━━━━━━━━━━━━━━━┳━━━━━━━━━━━━━━━┳━━━━━━━━━━━━━━━━━━━━┳━━━━━━━━━━━━━━━━━━━┳━━━━━━━━━━━━━━━━━━━━━━━━━━━━┓\n",
      "┃\u001b[1m \u001b[0m\u001b[1mpath           \u001b[0m\u001b[1m \u001b[0m┃\u001b[1m \u001b[0m\u001b[1mmodule       \u001b[0m\u001b[1m \u001b[0m┃\u001b[1m \u001b[0m\u001b[1minputs            \u001b[0m\u001b[1m \u001b[0m┃\u001b[1m \u001b[0m\u001b[1moutputs          \u001b[0m\u001b[1m \u001b[0m┃\u001b[1m \u001b[0m\u001b[1mparams                    \u001b[0m\u001b[1m \u001b[0m┃\n",
      "┡━━━━━━━━━━━━━━━━━╇━━━━━━━━━━━━━━━╇━━━━━━━━━━━━━━━━━━━━╇━━━━━━━━━━━━━━━━━━━╇━━━━━━━━━━━━━━━━━━━━━━━━━━━━┩\n",
      "│                 │ Log_p_x_yz    │ - \u001b[2mfloat32\u001b[0m[28,28,1] │ \u001b[2mfloat32\u001b[0m[]         │                            │\n",
      "│                 │               │ - \u001b[2mfloat32\u001b[0m[10]      │                   │                            │\n",
      "│                 │               │ - \u001b[2mfloat32\u001b[0m[64]      │                   │                            │\n",
      "├─────────────────┼───────────────┼────────────────────┼───────────────────┼────────────────────────────┤\n",
      "│ Dense_0         │ Dense         │ \u001b[2mfloat32\u001b[0m[74]        │ \u001b[2mfloat32\u001b[0m[500]      │ bias: \u001b[2mfloat32\u001b[0m[500]         │\n",
      "│                 │               │                    │                   │ kernel: \u001b[2mfloat32\u001b[0m[74,500]    │\n",
      "│                 │               │                    │                   │                            │\n",
      "│                 │               │                    │                   │ \u001b[1m37,500 \u001b[0m\u001b[1;2m(150.0 KB)\u001b[0m          │\n",
      "├─────────────────┼───────────────┼────────────────────┼───────────────────┼────────────────────────────┤\n",
      "│ Dense_1         │ Dense         │ \u001b[2mfloat32\u001b[0m[500]       │ \u001b[2mfloat32\u001b[0m[1024]     │ bias: \u001b[2mfloat32\u001b[0m[1024]        │\n",
      "│                 │               │                    │                   │ kernel: \u001b[2mfloat32\u001b[0m[500,1024]  │\n",
      "│                 │               │                    │                   │                            │\n",
      "│                 │               │                    │                   │ \u001b[1m513,024 \u001b[0m\u001b[1;2m(2.1 MB)\u001b[0m           │\n",
      "├─────────────────┼───────────────┼────────────────────┼───────────────────┼────────────────────────────┤\n",
      "│ ConvTranspose_0 │ ConvTranspose │ \u001b[2mfloat32\u001b[0m[4,4,64]    │ \u001b[2mfloat32\u001b[0m[7,7,64]   │ bias: \u001b[2mfloat32\u001b[0m[64]          │\n",
      "│                 │               │                    │                   │ kernel: \u001b[2mfloat32\u001b[0m[5,5,64,64] │\n",
      "│                 │               │                    │                   │                            │\n",
      "│                 │               │                    │                   │ \u001b[1m102,464 \u001b[0m\u001b[1;2m(409.9 KB)\u001b[0m         │\n",
      "├─────────────────┼───────────────┼────────────────────┼───────────────────┼────────────────────────────┤\n",
      "│ ConvTranspose_1 │ ConvTranspose │ \u001b[2mfloat32\u001b[0m[7,7,64]    │ \u001b[2mfloat32\u001b[0m[14,14,64] │ bias: \u001b[2mfloat32\u001b[0m[64]          │\n",
      "│                 │               │                    │                   │ kernel: \u001b[2mfloat32\u001b[0m[5,5,64,64] │\n",
      "│                 │               │                    │                   │                            │\n",
      "│                 │               │                    │                   │ \u001b[1m102,464 \u001b[0m\u001b[1;2m(409.9 KB)\u001b[0m         │\n",
      "├─────────────────┼───────────────┼────────────────────┼───────────────────┼────────────────────────────┤\n",
      "│ ConvTranspose_2 │ ConvTranspose │ \u001b[2mfloat32\u001b[0m[14,14,64]  │ \u001b[2mfloat32\u001b[0m[28,28,1]  │ bias: \u001b[2mfloat32\u001b[0m[1]           │\n",
      "│                 │               │                    │                   │ kernel: \u001b[2mfloat32\u001b[0m[5,5,64,1]  │\n",
      "│                 │               │                    │                   │                            │\n",
      "│                 │               │                    │                   │ \u001b[1m1,601 \u001b[0m\u001b[1;2m(6.4 KB)\u001b[0m             │\n",
      "├─────────────────┼───────────────┼────────────────────┼───────────────────┼────────────────────────────┤\n",
      "│\u001b[1m \u001b[0m\u001b[1m               \u001b[0m\u001b[1m \u001b[0m│\u001b[1m \u001b[0m\u001b[1m             \u001b[0m\u001b[1m \u001b[0m│\u001b[1m \u001b[0m\u001b[1m                  \u001b[0m\u001b[1m \u001b[0m│\u001b[1m \u001b[0m\u001b[1m            Total\u001b[0m\u001b[1m \u001b[0m│\u001b[1m \u001b[0m\u001b[1m757,053 \u001b[0m\u001b[1;2m(3.0 MB)\u001b[0m\u001b[1m          \u001b[0m\u001b[1m \u001b[0m│\n",
      "└─────────────────┴───────────────┴────────────────────┴───────────────────┴────────────────────────────┘\n",
      "\u001b[1m                                                                                                         \u001b[0m\n",
      "\u001b[1m                                   Total Parameters: 757,053 \u001b[0m\u001b[1;2m(3.0 MB)\u001b[0m\u001b[1m                                    \u001b[0m\n",
      "\n",
      "\n"
     ]
    }
   ],
   "source": [
    "X = jnp.ones((28, 28, 1), dtype=jnp.float32)\n",
    "y = jnp.ones((10,), dtype=jnp.float32)\n",
    "z = jnp.ones((64), dtype=jnp.float32)\n",
    "print(Log_p_x_yz().tabulate(key, X, y, z, console_kwargs={\"width\": 200}))"
   ]
  },
  {
   "cell_type": "code",
   "execution_count": 15,
   "metadata": {},
   "outputs": [],
   "source": [
    "class ModelGFZ(nn.Module):\n",
    "\n",
    "    @nn.compact\n",
    "    def __call__(self, X, y, epsilon): # X: (height, width), y: (n_classes,), epsilon: (d_epsilon,) -> 1, 1\n",
    "        z, logit_q_z_xy = Log_q_z_xy()(X, y, epsilon)\n",
    "        logit_p_x_yz = Log_p_x_yz()(X, y, z)\n",
    "        logit_p_y_z = Log_p_y_z()(y, z)\n",
    "        return z, logit_q_z_xy, logit_p_x_yz, logit_p_y_z"
   ]
  },
  {
   "cell_type": "markdown",
   "metadata": {},
   "source": [
    "Here are the loss functions defined in \"Auto Encoding Varational Bayes\" to approximate the true ELBO $\\cal L$:\n",
    "\n",
    "$$\n",
    "\\widetilde{\\cal L}^{A}(\\theta,\\phi;{\\bf x}^{(i)}, {\\bf y}^{(i)})=\\frac{1}{L}\\sum_{l=1}^{L}\\log p_{\\theta}({\\bf x}^{(i)},{\\bf z}^{(i,l)},{\\bf y}^{(i)})-\\log q_{\\phi}({\\bf z}^{(i,l)}|{\\bf x}^{(i)}, {\\bf y}^{(i)})\n",
    "$$\n",
    "\n",
    "$$\n",
    "\n",
    "\\widetilde{\\cal L}^{B}(\\theta,\\phi;{\\bf x}^{(i)}, {\\bf y}^{(i)})=-D_{K L}(q_{\\phi}({\\bf z}|{\\bf x}^{(i)}, {\\bf y}^{(i)})||p_{\\theta}({\\bf z}))+\\frac{1}{L}\\sum_{l=1}^{L} \\log p_{\\theta}({\\bf x}^{(i)}|{\\bf z}^{(i,l)}, {\\bf y}^{(i)})\n",
    "\n",
    "$$\n",
    "\n",
    "$$\n",
    "\n",
    "\\widetilde{\\cal L}^{M}(\\theta,\\phi;{\\bf X}^{M}, {\\bf y}^{M}, {\\bf \\epsilon})=\\frac{N}{M}\\sum_{i=1}^{M}=\\widetilde{\\cal L}^{A\\text{ or }B}(\\theta,\\phi;{\\bf X}^{M}_i, {\\bf y}^{M}_i)\n",
    "\n",
    "$$"
   ]
  },
  {
   "cell_type": "markdown",
   "metadata": {},
   "source": [
    "Noise distribution $p$ that parameterises latent variable $z$, i.e. $z = g_{\\theta}(\\epsilon, x, y)$ where $\\epsilon\\sim p(\\epsilon)$."
   ]
  },
  {
   "cell_type": "code",
   "execution_count": 16,
   "metadata": {},
   "outputs": [],
   "source": [
    "def sample_p(key, epsilon_shape: tuple) -> np.ndarray:\n",
    "    key, sample_key = random.split(key)\n",
    "    epsilon = random.normal(sample_key, epsilon_shape, dtype=jnp.float32)\n",
    "    return key, epsilon"
   ]
  },
  {
   "cell_type": "code",
   "execution_count": 17,
   "metadata": {},
   "outputs": [],
   "source": [
    "# ll stands for log-likelyhood\n",
    "def loss_A_single(z, logit_q_z_xy, logit_p_x_yz, logit_p_y_z):\n",
    "    logit_p_z = log_gaussian(z)\n",
    "    ll = logit_p_x_yz + logit_p_y_z + (logit_p_z - logit_q_z_xy)\n",
    "    return -ll\n",
    "\n",
    "loss_A = vmap(loss_A_single)"
   ]
  },
  {
   "cell_type": "code",
   "execution_count": 18,
   "metadata": {},
   "outputs": [],
   "source": [
    "def make_predictions(key, model, params, X, K=10): # X: (batch_size, image_size, image_size, 1)\n",
    "    batch_size = X.shape[0]\n",
    "    key, epsilon = sample_p(key, (batch_size, args[\"n_classes\"] * K, args[\"d_epsilon\"]))\n",
    "    y = one_hot(jnp.repeat(jnp.arange(args[\"n_classes\"]), K), args[\"n_classes\"], dtype=jnp.float32)\n",
    "\n",
    "    @jit\n",
    "    def make_single_prediction(x, epsilon):\n",
    "        z, logit_q_z_xy, logit_p_x_yz, logit_p_y_z = vmap(\n",
    "            partial(model.apply, {'params': params}),\n",
    "            in_axes=(None, 0, 0)\n",
    "        )(x, y, epsilon)\n",
    "\n",
    "        ll = -loss_A(z, logit_q_z_xy, logit_p_x_yz, logit_p_y_z).reshape(args[\"n_classes\"], K)\n",
    "        p_bayes = nn.softmax(logsumexp(ll, axis=1) - np.log(K))\n",
    "        y_prediction = jnp.argmax(p_bayes)\n",
    "        return y_prediction\n",
    "    \n",
    "    y_predictions = vmap(make_single_prediction)(X, epsilon)\n",
    "    return key, y_predictions"
   ]
  },
  {
   "cell_type": "code",
   "execution_count": 19,
   "metadata": {},
   "outputs": [],
   "source": [
    "def compute_batch_loss(key, model, params, X_batch, y_batch):\n",
    "    key, epsilon = sample_p(key, (X_batch.shape[0], args[\"d_epsilon\"]))\n",
    "    z, logit_q_z_xy, logit_p_x_yz, logit_p_y_z = vmap(\n",
    "        model.apply, \n",
    "        in_axes=(None, 0, 0, 0)\n",
    "    )({\"params\": params}, X_batch, y_batch, epsilon)\n",
    "    loss_value = jnp.mean(\n",
    "        loss_A(z, logit_q_z_xy, logit_p_x_yz, logit_p_y_z)\n",
    "    )\n",
    "    return key, loss_value\n",
    "\n",
    "def compute_batch_accuracy(key, model, params, X_batch, y_batch, K=10):\n",
    "    key, y_predictions = make_predictions(key, model, params, X_batch, K)\n",
    "    labels = jnp.argmax(y_batch, axis=1)\n",
    "    accuracy = 100.0 * jnp.mean(y_predictions == labels)\n",
    "    return key, accuracy"
   ]
  },
  {
   "cell_type": "code",
   "execution_count": 20,
   "metadata": {},
   "outputs": [],
   "source": [
    "@jit\n",
    "def update_step(state, X_batch, y_batch, epsilon):\n",
    "  def batch_loss(params):\n",
    "    def loss_fn(X, y, epsilon):\n",
    "      z, logit_q_z_xy, logit_p_x_yz, logit_p_y_z = state.apply_fn(\n",
    "        {'params': params},\n",
    "        X, y, epsilon\n",
    "      )\n",
    "      return loss_A_single(z, logit_q_z_xy, logit_p_x_yz, logit_p_y_z)\n",
    "\n",
    "    loss = jax.vmap(\n",
    "      loss_fn, \n",
    "      in_axes=(0, 0, 0), \n",
    "    )(X_batch, y_batch, epsilon)\n",
    "    return jnp.mean(loss)\n",
    "\n",
    "  loss, grads = jax.value_and_grad(\n",
    "    batch_loss,\n",
    "  )(state.params)\n",
    "\n",
    "  new_state = state.apply_gradients(\n",
    "      grads=grads\n",
    "  )\n",
    "  return new_state, loss"
   ]
  },
  {
   "cell_type": "code",
   "execution_count": 21,
   "metadata": {},
   "outputs": [],
   "source": [
    "args['num_epochs'] = 20\n",
    "args['n_compute_test'] = 100\n",
    "args['batch_size'] = 50\n",
    "args['num_batch'] = args['n_train_images'] // args['batch_size']\n",
    "args['d_epsilon'] = 64\n",
    "args['image_size'] = 28"
   ]
  },
  {
   "cell_type": "code",
   "execution_count": 22,
   "metadata": {},
   "outputs": [],
   "source": [
    "X = jnp.ones((args['image_size'], args['image_size'], 1), dtype=jnp.float32)\n",
    "y = jnp.ones(args['n_classes'], dtype=jnp.float32)\n",
    "epsilon = jnp.ones(args['d_epsilon'], dtype=jnp.float32)\n",
    "\n",
    "model = ModelGFZ()\n",
    "params = model.init(key, X, y, epsilon)[\"params\"]\n",
    "\n",
    "training_state = train_state.TrainState.create(\n",
    "      apply_fn=model.apply,\n",
    "      params=params,\n",
    "      tx=optax.adam(args['learning_rate']),\n",
    ")"
   ]
  },
  {
   "cell_type": "code",
   "execution_count": 23,
   "metadata": {},
   "outputs": [
    {
     "name": "stderr",
     "output_type": "stream",
     "text": [
      "Epoch 1: 100%|██████████| 1200/1200 [03:42<00:00,  5.40batch/s, test_accuracy=None, test_loss=None, training_loss=34.278667]\n",
      "Epoch 2: 100%|██████████| 1200/1200 [03:35<00:00,  5.58batch/s, test_accuracy=68.0, test_loss=34.463924, training_loss=29.018774]\n",
      "Epoch 3: 100%|██████████| 1200/1200 [03:39<00:00,  5.47batch/s, test_accuracy=76.0, test_loss=30.410564, training_loss=29.835789]\n",
      "Epoch 4: 100%|██████████| 1200/1200 [03:40<00:00,  5.45batch/s, test_accuracy=74.0, test_loss=28.907728, training_loss=29.935675]\n",
      "Epoch 5: 100%|██████████| 1200/1200 [03:40<00:00,  5.45batch/s, test_accuracy=77.0, test_loss=27.872633, training_loss=27.44826] \n",
      "Epoch 6: 100%|██████████| 1200/1200 [03:38<00:00,  5.49batch/s, test_accuracy=79.99999, test_loss=27.116709, training_loss=26.178373]\n",
      "Epoch 7: 100%|██████████| 1200/1200 [03:41<00:00,  5.42batch/s, test_accuracy=77.0, test_loss=26.541977, training_loss=27.607529]\n",
      "Epoch 8: 100%|██████████| 1200/1200 [03:41<00:00,  5.42batch/s, test_accuracy=79.99999, test_loss=25.998947, training_loss=24.953983]\n",
      "Epoch 9: 100%|██████████| 1200/1200 [03:42<00:00,  5.39batch/s, test_accuracy=83.0, test_loss=25.627611, training_loss=23.299728]\n",
      "Epoch 10: 100%|██████████| 1200/1200 [03:41<00:00,  5.41batch/s, test_accuracy=82.0, test_loss=25.357254, training_loss=26.341043]\n",
      "Epoch 11: 100%|██████████| 1200/1200 [03:38<00:00,  5.48batch/s, test_accuracy=82.0, test_loss=25.07568, training_loss=24.735722]\n",
      "Epoch 12: 100%|██████████| 1200/1200 [03:33<00:00,  5.62batch/s, test_accuracy=76.0, test_loss=24.802938, training_loss=22.544264]\n",
      "Epoch 13: 100%|██████████| 1200/1200 [03:33<00:00,  5.62batch/s, test_accuracy=74.0, test_loss=24.72361, training_loss=26.083853]\n",
      "Epoch 14: 100%|██████████| 1200/1200 [03:33<00:00,  5.62batch/s, test_accuracy=84.0, test_loss=24.52711, training_loss=25.802355]\n",
      "Epoch 15: 100%|██████████| 1200/1200 [03:41<00:00,  5.43batch/s, test_accuracy=91.0, test_loss=24.382515, training_loss=24.746704]\n",
      "Epoch 16: 100%|██████████| 1200/1200 [03:39<00:00,  5.47batch/s, test_accuracy=84.0, test_loss=24.247564, training_loss=25.895643]\n",
      "Epoch 17: 100%|██████████| 1200/1200 [03:34<00:00,  5.59batch/s, test_accuracy=85.0, test_loss=24.202885, training_loss=25.927378]\n",
      "Epoch 18: 100%|██████████| 1200/1200 [03:38<00:00,  5.49batch/s, test_accuracy=74.0, test_loss=24.223476, training_loss=24.54643] \n",
      "Epoch 19: 100%|██████████| 1200/1200 [03:42<00:00,  5.39batch/s, test_accuracy=83.0, test_loss=24.042927, training_loss=22.820547]\n",
      "Epoch 20: 100%|██████████| 1200/1200 [03:39<00:00,  5.46batch/s, test_accuracy=83.0, test_loss=23.881006, training_loss=23.064188]\n"
     ]
    }
   ],
   "source": [
    "key, training_key, test_key = random.split(key, 3)\n",
    "\n",
    "#sinks for the loss values\n",
    "training_steps, test_steps = [], []\n",
    "training_loss_values, test_loss_values, test_accuracy_values = [], [], []\n",
    "test_loss_value, test_accuracy_value = None, None\n",
    "\n",
    "epsilon_shape = (args['batch_size'], args['d_epsilon'])\n",
    "\n",
    "# training loop\n",
    "for epoch in range(1, args['num_epochs']+1):\n",
    "    with tqdm(fashion_mnist_train_dl, unit=\"batch\") as tepoch:\n",
    "        tepoch.set_description(f\"Epoch {epoch}\")\n",
    "        for train_step, (X_batch, y_batch) in enumerate(tepoch):\n",
    "            # one-hot encoding\n",
    "            y_batch_one_hot = one_hot(y_batch, args[\"n_classes\"])\n",
    "            \n",
    "            # sample from noise distribution\n",
    "            training_key, epsilon = sample_p(training_key, epsilon_shape)\n",
    "\n",
    "            # training step\n",
    "            training_state, loss_value = update_step(\n",
    "                training_state, X_batch, y_batch_one_hot, epsilon\n",
    "            )\n",
    "            \n",
    "            # log the training loss: here it's just the batch loss, need to be fixed.\n",
    "            training_loss_values.append(loss_value)\n",
    "            training_steps.append(epoch*args[\"num_batch\"] + train_step+1)\n",
    "\n",
    "            tepoch.set_postfix(training_loss=loss_value, test_loss=test_loss_value, test_accuracy=test_accuracy_value)\n",
    "\n",
    "        # compute test loss and approx. accuracy\n",
    "        test_key, test_loss_value = compute_batch_loss(\n",
    "            test_key, model, training_state.params, test_images, test_labels\n",
    "        )\n",
    "\n",
    "        test_key, permutation_key = random.split(test_key)\n",
    "        permutation = random.permutation(permutation_key, jnp.arange(args[\"n_test_images\"], dtype=jnp.int32))[:100]\n",
    "        test_key, test_accuracy_value = compute_batch_accuracy(\n",
    "            test_key, model, training_state.params, test_images[permutation, :], test_labels[permutation, :], K=10\n",
    "        )\n",
    "        test_loss_values.append(test_loss_value)\n",
    "        test_accuracy_values.append(test_accuracy_value)\n",
    "        test_steps.append(epoch*args[\"num_batch\"] + train_step+1)\n",
    "\n",
    "        tepoch.set_postfix(training_loss=loss_value, test_loss=test_loss_value, accuracy=test_accuracy_value)"
   ]
  },
  {
   "cell_type": "markdown",
   "metadata": {},
   "source": [
    "Here is the resulting training/test loss plot:"
   ]
  },
  {
   "cell_type": "code",
   "execution_count": 32,
   "metadata": {},
   "outputs": [],
   "source": [
    "checkpoint = {\"model\": training_state.params, \"config\": args,}\n",
    "pickle.dump(checkpoint, open('initial-model-20-epochs.pkl', 'wb'))"
   ]
  },
  {
   "cell_type": "code",
   "execution_count": 25,
   "metadata": {},
   "outputs": [
    {
     "data": {
      "image/png": "[encoded data removed]",
      "text/plain": [
       "<Figure size 640x480 with 1 Axes>"
      ]
     },
     "metadata": {},
     "output_type": "display_data"
    }
   ],
   "source": [
    "fig, ax = plt.subplots()\n",
    "ax.plot(training_steps, training_loss_values, label=\"training\")\n",
    "ax.plot(test_steps, test_loss_values, label=\"test\")\n",
    "ax.set_xlabel(\"iteration\")\n",
    "fig.suptitle(\"Loss values during training\")\n",
    "ax.legend()\n",
    "_ = ax.set_ylabel(\"$-\\cal L$\")"
   ]
  },
  {
   "cell_type": "code",
   "execution_count": 9,
   "metadata": {},
   "outputs": [],
   "source": [
    "import pickle\n",
    "initial_model_checkpoint = pickle.load(open('initial-model-20-epochs.pkl', 'rb'))\n",
    "\n",
    "trained_params = initial_model_checkpoint[\"model\"]"
   ]
  },
  {
   "cell_type": "code",
   "execution_count": 33,
   "metadata": {},
   "outputs": [
    {
     "name": "stdout",
     "output_type": "stream",
     "text": [
      "Accuracy: 84.5\n"
     ]
    }
   ],
   "source": [
    "key, subkey = random.split(key)\n",
    "_, acc = compute_batch_accuracy(subkey, model, training_state.params, test_images[:1000], test_labels[:1000], K=10)\n",
    "print(\"Accuracy:\", acc)"
   ]
  }
 ],
 "metadata": {
  "kernelspec": {
   "display_name": "ml",
   "language": "python",
   "name": "python3"
  },
  "language_info": {
   "codemirror_mode": {
    "name": "ipython",
    "version": 3
   },
   "file_extension": ".py",
   "mimetype": "text/x-python",
   "name": "python",
   "nbconvert_exporter": "python",
   "pygments_lexer": "ipython3",
   "version": "3.11.6"
  }
 },
 "nbformat": 4,
 "nbformat_minor": 2
}
