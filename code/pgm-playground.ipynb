{
 "cells": [
  {
   "cell_type": "code",
   "execution_count": null,
   "metadata": {},
   "outputs": [],
   "source": [
    "import jax\n",
    "from jax import random, jit\n",
    "from functools import partial # needed to make arguments static in jit compiled code\n",
    "import jax.numpy as jnp\n",
    "import numpy as np\n",
    "from tqdm import trange\n",
    "from optax import adam"
   ]
  },
  {
   "cell_type": "code",
   "execution_count": null,
   "metadata": {},
   "outputs": [],
   "source": [
    "# because Apple sucks\n",
    "jax.default_device = jax.devices(\"cpu\")[0]"
   ]
  },
  {
   "cell_type": "code",
   "execution_count": null,
   "metadata": {},
   "outputs": [],
   "source": [
    "seed = 1\n",
    "key = random.PRNGKey(seed)\n",
    "key"
   ]
  },
  {
   "cell_type": "code",
   "execution_count": null,
   "metadata": {},
   "outputs": [],
   "source": [
    "# random data to fix some parameters in this mess\n",
    "N = 1000\n",
    "d = 10\n",
    "n_classes = 10\n",
    "\n",
    "key, key_X, key_y = random.split(key, 3)\n",
    "\n",
    "X = random.normal(key_X, (N, d))\n",
    "y = jax.nn.one_hot(random.randint(key_y, (N,), 0, n_classes), n_classes)"
   ]
  },
  {
   "cell_type": "code",
   "execution_count": null,
   "metadata": {},
   "outputs": [],
   "source": [
    "y[:1]"
   ]
  },
  {
   "cell_type": "markdown",
   "metadata": {},
   "source": [
    "Our model where $\\theta$ and $\\phi$ are learnable parameters:"
   ]
  },
  {
   "cell_type": "code",
   "execution_count": null,
   "metadata": {},
   "outputs": [],
   "source": [
    "def p_theta_xzy(theta: jnp.ndarray, x: float, z: float, y:float ) -> float:\n",
    "    pass\n",
    "\n",
    "def q_phi_z_xy(phi: jnp.ndarray, z: float, x: float, y: float) -> float:\n",
    "    pass"
   ]
  },
  {
   "cell_type": "markdown",
   "metadata": {},
   "source": [
    "Here are the loss functions defined in \"Auto Encoding Varational Bayes\" to approximate the true ELBO $\\cal L$:\n",
    "\n",
    "$$\n",
    "\\widetilde{\\cal L}^{A}(\\theta,\\phi;{\\bf x}^{(i)}, {\\bf y}^{(i)})=\\frac{1}{L}\\sum_{l=1}^{L}\\log p_{\\theta}({\\bf x}^{(i)},{\\bf z}^{(i,l)},{\\bf y}^{(i)})-\\log q_{\\phi}({\\bf z}^{(i,l)}|{\\bf x}^{(i)}, {\\bf y}^{(i)})\n",
    "$$\n",
    "\n",
    "$$\n",
    "\n",
    "\\widetilde{\\cal L}^{B}(\\theta,\\phi;{\\bf x}^{(i)}, {\\bf y}^{(i)})=-D_{K L}(q_{\\phi}({\\bf z}|{\\bf x}^{(i)}, {\\bf y}^{(i)})||p_{\\theta}({\\bf z}))+\\frac{1}{L}\\sum_{l=1}^{L} \\log p_{\\theta}({\\bf x}^{(i)}|{\\bf z}^{(i,l)}, {\\bf y}^{(i)})\n",
    "\n",
    "$$\n"
   ]
  },
  {
   "cell_type": "code",
   "execution_count": null,
   "metadata": {},
   "outputs": [],
   "source": [
    "def loss_A(theta: jnp.ndarray, phi: jnp.ndarray, x: jnp.ndarray, y: jnp.ndarray, eps: jnp.ndarray) -> float:\n",
    "    return 0\n",
    "\n",
    "def loss_B(theta: jnp.ndarray, phi: jnp.ndarray, x: jnp.ndarray, y: jnp.ndarray, eps: jnp.ndarray) -> float:\n",
    "    return 0"
   ]
  },
  {
   "cell_type": "markdown",
   "metadata": {},
   "source": [
    "Noise distribution $p$ that parameterises latent variable $z$, i.e. $z = g_{\\theta}(\\epsilon, x, y)$ where $\\epsilon\\sim p(\\epsilon)$."
   ]
  },
  {
   "cell_type": "code",
   "execution_count": null,
   "metadata": {},
   "outputs": [],
   "source": [
    "def sample_p(keys: np.ndarray) -> np.ndarray:\n",
    "    pass"
   ]
  },
  {
   "cell_type": "code",
   "execution_count": null,
   "metadata": {},
   "outputs": [],
   "source": [
    "@partial(jit, static_argnames=['learning_rate'])\n",
    "def update_sgd(grad_theta: np.ndarray, grad_phi: np.ndarray, learning_rate: float):\n",
    "    return -learning_rate * grad_theta, -learning_rate * grad_phi"
   ]
  },
  {
   "cell_type": "code",
   "execution_count": null,
   "metadata": {},
   "outputs": [],
   "source": [
    "# definition of remaining parameters\n",
    "M = 10\n",
    "N_trains = 10\n",
    "learning_rate = 0.01\n",
    "d_eps = 10\n",
    "\n",
    "# used loss and update function: we can use optimisation algo implemented in Optax\n",
    "loss = loss_A\n",
    "update = update_sgd\n",
    "\n",
    "# initial parameter values\n",
    "theta_0 = jnp.ones(10)\n",
    "phi_0 = jnp.ones(10)\n",
    "\n",
    "# optimised parameters\n",
    "theta = jnp.copy(theta_0)\n",
    "phi = jnp.copy(phi_0)\n",
    "\n",
    "#sink for the loss values\n",
    "loss_values = []\n",
    "\n",
    "# training loop\n",
    "for iteration in trange(N_trains):\n",
    "    # sample X^M, y^M mini-batches\n",
    "    key, batch_key = random.split(key)\n",
    "    indexes = random.choice(batch_key, M)\n",
    "    X_M = X[indexes, ...]\n",
    "    y_M = y[indexes, ...]\n",
    "\n",
    "    # sample from noise distribution\n",
    "    key, *sample_keys = random.split(key, d_eps+1)\n",
    "    eps = sample_p(sample_keys)\n",
    "\n",
    "    #compute the loss value and grad w.r.t. phi/theta\n",
    "    grad_theta = jax.grad(loss, argnums=0)(theta, phi, X_M, y_M, eps)\n",
    "    loss_value, grad_phi = jax.value_and_grad(loss, argnums=1)(theta, phi, X_M, y_M, eps)\n",
    "    loss_values.append(loss_value)\n",
    "\n",
    "    # update the parameters according to chosen policy\n",
    "    theta, phi += update(grad_theta, grad_phi, learning_rate=learning_rate)"
   ]
  }
 ],
 "metadata": {
  "kernelspec": {
   "display_name": "ml",
   "language": "python",
   "name": "python3"
  },
  "language_info": {
   "codemirror_mode": {
    "name": "ipython",
    "version": 3
   },
   "file_extension": ".py",
   "mimetype": "text/x-python",
   "name": "python",
   "nbconvert_exporter": "python",
   "pygments_lexer": "ipython3",
   "version": "3.11.6"
  }
 },
 "nbformat": 4,
 "nbformat_minor": 2
}
