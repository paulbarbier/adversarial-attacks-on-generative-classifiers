{
 "cells": [
  {
   "cell_type": "code",
   "execution_count": 28,
   "metadata": {},
   "outputs": [],
   "source": [
    "import jax\n",
    "from jax import random, jit\n",
    "from functools import partial # needed to make arguments static in jit compiled code\n",
    "import jax.numpy as jnp\n",
    "import numpy as np\n",
    "from tqdm import trange\n",
    "from optax import adam\n",
    "import matplotlib.pyplot as plt\n",
    "import pickle\n",
    "from datetime import datetime\n",
    "import os"
   ]
  },
  {
   "cell_type": "code",
   "execution_count": 31,
   "metadata": {},
   "outputs": [],
   "source": [
    "# https://github.com/google-deepmind/dm-haiku/issues/18#issuecomment-981814403\n",
    "MODELS_PATH = \"../model/\"\n",
    "def save_models(model, path: str):\n",
    "    with open(os.path.join(MODELS_PATH, path), \"wb\") as file:\n",
    "        pickle.dump(model, file)"
   ]
  },
  {
   "cell_type": "code",
   "execution_count": null,
   "metadata": {},
   "outputs": [],
   "source": [
    "# because Apple sucks\n",
    "jax.default_device = jax.devices(\"cpu\")[0]"
   ]
  },
  {
   "cell_type": "code",
   "execution_count": null,
   "metadata": {},
   "outputs": [],
   "source": [
    "seed = 1\n",
    "key = random.PRNGKey(seed)\n",
    "key"
   ]
  },
  {
   "cell_type": "code",
   "execution_count": null,
   "metadata": {},
   "outputs": [],
   "source": [
    "# random data to fix some parameters in this mess\n",
    "N = 1000\n",
    "d = 10\n",
    "n_classes = 10\n",
    "\n",
    "key, key_X, key_y = random.split(key, 3)\n",
    "\n",
    "X = random.normal(key_X, (N, d))\n",
    "y = jax.nn.one_hot(random.randint(key_y, (N,), 0, n_classes), n_classes)"
   ]
  },
  {
   "cell_type": "code",
   "execution_count": null,
   "metadata": {},
   "outputs": [],
   "source": [
    "y[:1]"
   ]
  },
  {
   "cell_type": "markdown",
   "metadata": {},
   "source": [
    "Our model where $\\theta$ and $\\phi$ are learnable parameters:"
   ]
  },
  {
   "cell_type": "code",
   "execution_count": null,
   "metadata": {},
   "outputs": [],
   "source": [
    "def p_theta_xzy(theta: jnp.ndarray, x: float, z: float, y:float ) -> float:\n",
    "    pass\n",
    "\n",
    "def q_phi_z_xy(phi: jnp.ndarray, z: float, x: float, y: float) -> float:\n",
    "    pass"
   ]
  },
  {
   "cell_type": "markdown",
   "metadata": {},
   "source": [
    "Here are the loss functions defined in \"Auto Encoding Varational Bayes\" to approximate the true ELBO $\\cal L$:\n",
    "\n",
    "$$\n",
    "\\widetilde{\\cal L}^{A}(\\theta,\\phi;{\\bf x}^{(i)}, {\\bf y}^{(i)})=\\frac{1}{L}\\sum_{l=1}^{L}\\log p_{\\theta}({\\bf x}^{(i)},{\\bf z}^{(i,l)},{\\bf y}^{(i)})-\\log q_{\\phi}({\\bf z}^{(i,l)}|{\\bf x}^{(i)}, {\\bf y}^{(i)})\n",
    "$$\n",
    "\n",
    "$$\n",
    "\n",
    "\\widetilde{\\cal L}^{B}(\\theta,\\phi;{\\bf x}^{(i)}, {\\bf y}^{(i)})=-D_{K L}(q_{\\phi}({\\bf z}|{\\bf x}^{(i)}, {\\bf y}^{(i)})||p_{\\theta}({\\bf z}))+\\frac{1}{L}\\sum_{l=1}^{L} \\log p_{\\theta}({\\bf x}^{(i)}|{\\bf z}^{(i,l)}, {\\bf y}^{(i)})\n",
    "\n",
    "$$\n",
    "\n",
    "$$\n",
    "\n",
    "\\widetilde{\\cal L}^{M}(\\theta,\\phi;{\\bf X}^{M}, {\\bf y}^{M}, {\\bf \\epsilon})=\\frac{1}{M}\\sum_{i=1}^{M}=\\widetilde{\\cal L}^{A/B}(\\theta,\\phi;{\\bf X}^{M}_i, {\\bf y}^{M}_i)\n",
    "\n",
    "$$"
   ]
  },
  {
   "cell_type": "code",
   "execution_count": null,
   "metadata": {},
   "outputs": [],
   "source": [
    "def loss_A(theta: jnp.ndarray, phi: jnp.ndarray, x: jnp.ndarray, y: jnp.ndarray, eps: jnp.ndarray) -> float:\n",
    "    return 0\n",
    "\n",
    "def loss_B(theta: jnp.ndarray, phi: jnp.ndarray, x: jnp.ndarray, y: jnp.ndarray, eps: jnp.ndarray) -> float:\n",
    "    return 0"
   ]
  },
  {
   "cell_type": "markdown",
   "metadata": {},
   "source": [
    "Noise distribution $p$ that parameterises latent variable $z$, i.e. $z = g_{\\theta}(\\epsilon, x, y)$ where $\\epsilon\\sim p(\\epsilon)$."
   ]
  },
  {
   "cell_type": "code",
   "execution_count": null,
   "metadata": {},
   "outputs": [],
   "source": [
    "def sample_p(keys: np.ndarray) -> np.ndarray:\n",
    "    pass"
   ]
  },
  {
   "cell_type": "code",
   "execution_count": null,
   "metadata": {},
   "outputs": [],
   "source": [
    "@partial(jit, static_argnames=['learning_rate'])\n",
    "def update_sgd(grad_theta: np.ndarray, grad_phi: np.ndarray, learning_rate: float):\n",
    "    return -learning_rate * grad_theta, -learning_rate * grad_phi"
   ]
  },
  {
   "cell_type": "code",
   "execution_count": null,
   "metadata": {},
   "outputs": [],
   "source": [
    "# for the validation loss logging\n",
    "n_log_validation = 100\n",
    "\n",
    "# definition of remaining parameters\n",
    "M = 10\n",
    "N_trains = 10\n",
    "d_eps = 10\n",
    "\n",
    "# gradient descent method and associated parameters: use optimisation algo implemented in Optax if needed\n",
    "learning_rate = 0.01\n",
    "update = update_sgd\n",
    "\n",
    "# used loss function\n",
    "loss = loss_A\n",
    "\n",
    "# initial parameter values\n",
    "theta_0 = jnp.ones(10)\n",
    "phi_0 = jnp.ones(10)\n",
    "\n",
    "# optimised parameters\n",
    "theta = jnp.copy(theta_0)\n",
    "phi = jnp.copy(phi_0)\n",
    "\n",
    "#sink for the loss values\n",
    "training_steps, validation_steps = [], []\n",
    "training_loss_values, validation_loss_values = [], []\n",
    "\n",
    "# training loop\n",
    "for iteration in trange(N_trains):\n",
    "    # sample X^M, y^M mini-batches\n",
    "    key, batch_key = random.split(key)\n",
    "    indexes = random.choice(batch_key, M)\n",
    "    X_M = X[indexes, ...]\n",
    "    y_M = y[indexes, ...]\n",
    "\n",
    "    # sample from noise distribution\n",
    "    key, *sample_keys = random.split(key, d_eps+1)\n",
    "    eps = sample_p(sample_keys)\n",
    "\n",
    "    #compute the loss value and grad w.r.t. phi/theta\n",
    "    grad_theta = jax.grad(loss, argnums=0)(theta, phi, X_M, y_M, eps)\n",
    "    loss_value, grad_phi = jax.value_and_grad(loss, argnums=1)(theta, phi, X_M, y_M, eps)\n",
    "    \n",
    "    # log the training loss: here it's just the batch loss, need to be fixed.\n",
    "    training_loss_values.append(loss_value)\n",
    "    training_steps.append(iteration)\n",
    "\n",
    "    # log the validation loss for some steps\n",
    "    if iteration % n_log_validation == 0:\n",
    "        validation_loss_value = compute_validation_loss(theta, phi)\n",
    "        validation_loss_values.append(validation_loss_value)\n",
    "        validation_steps.append(iteration)\n",
    "\n",
    "    # update the parameters according to chosen policy\n",
    "    theta, phi += update(grad_theta, grad_phi, learning_rate=learning_rate)\n",
    "\n",
    "save_models({\n",
    "    \"learning_rate\": learning_rate,\n",
    "    \"N_trains\": N_trains,\n",
    "    \"M\": M,\n",
    "    \"theta\": theta,\n",
    "    \"phi\": phi,\n",
    "}, f\"models/test_{datetime.today().strftime('%Y-%m-%d_%H:%M:%S')}.pkl\")"
   ]
  },
  {
   "cell_type": "markdown",
   "metadata": {},
   "source": [
    "Here is the resulting training/test loss plot:"
   ]
  },
  {
   "cell_type": "code",
   "execution_count": 26,
   "metadata": {},
   "outputs": [
    {
     "ename": "NameError",
     "evalue": "name 'training_steps' is not defined",
     "output_type": "error",
     "traceback": [
      "\u001b[0;31m---------------------------------------------------------------------------\u001b[0m",
      "\u001b[0;31mNameError\u001b[0m                                 Traceback (most recent call last)",
      "\u001b[1;32m/Users/mic/Documents/mva/pgm/project/code/pgm-playground.ipynb Cell 15\u001b[0m line \u001b[0;36m2\n\u001b[1;32m      <a href='vscode-notebook-cell:/Users/mic/Documents/mva/pgm/project/code/pgm-playground.ipynb#X25sZmlsZQ%3D%3D?line=0'>1</a>\u001b[0m fig, ax \u001b[39m=\u001b[39m plt\u001b[39m.\u001b[39msubplots()\n\u001b[0;32m----> <a href='vscode-notebook-cell:/Users/mic/Documents/mva/pgm/project/code/pgm-playground.ipynb#X25sZmlsZQ%3D%3D?line=1'>2</a>\u001b[0m ax\u001b[39m.\u001b[39mplot(training_steps, training_loss_values, label\u001b[39m=\u001b[39m[\u001b[39m\"\u001b[39m\u001b[39mtraining\u001b[39m\u001b[39m\"\u001b[39m])\n\u001b[1;32m      <a href='vscode-notebook-cell:/Users/mic/Documents/mva/pgm/project/code/pgm-playground.ipynb#X25sZmlsZQ%3D%3D?line=2'>3</a>\u001b[0m ax\u001b[39m.\u001b[39mplot(validation_steps, validation_loss_values, label\u001b[39m=\u001b[39m[\u001b[39m\"\u001b[39m\u001b[39mvalidation\u001b[39m\u001b[39m\"\u001b[39m])\n\u001b[1;32m      <a href='vscode-notebook-cell:/Users/mic/Documents/mva/pgm/project/code/pgm-playground.ipynb#X25sZmlsZQ%3D%3D?line=3'>4</a>\u001b[0m ax\u001b[39m.\u001b[39mset_xlabel(\u001b[39m\"\u001b[39m\u001b[39miteration\u001b[39m\u001b[39m\"\u001b[39m)\n",
      "\u001b[0;31mNameError\u001b[0m: name 'training_steps' is not defined"
     ]
    },
    {
     "data": {
      "image/png": "[encoded data removed]",
      "text/plain": [
       "<Figure size 640x480 with 1 Axes>"
      ]
     },
     "metadata": {},
     "output_type": "display_data"
    }
   ],
   "source": [
    "\n",
    "fig, ax = plt.subplots()\n",
    "ax.plot(training_steps, training_loss_values, label=[\"training\"])\n",
    "ax.plot(validation_steps, validation_loss_values, label=[\"validation\"])\n",
    "ax.set_xlabel(\"iteration\")\n",
    "fig.suptitle(\"Loss values during training\")\n",
    "_ = ax.set_ylabel(\"$\\cal L$\")"
   ]
  }
 ],
 "metadata": {
  "kernelspec": {
   "display_name": "ml",
   "language": "python",
   "name": "python3"
  },
  "language_info": {
   "codemirror_mode": {
    "name": "ipython",
    "version": 3
   },
   "file_extension": ".py",
   "mimetype": "text/x-python",
   "name": "python",
   "nbconvert_exporter": "python",
   "pygments_lexer": "ipython3",
   "version": "3.11.6"
  }
 },
 "nbformat": 4,
 "nbformat_minor": 2
}
